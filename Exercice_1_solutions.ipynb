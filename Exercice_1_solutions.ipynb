{
  "nbformat": 4,
  "nbformat_minor": 0,
  "metadata": {
    "colab": {
      "provenance": []
    },
    "kernelspec": {
      "name": "python3",
      "display_name": "Python 3"
    }
  },
  "cells": [
    {
      "cell_type": "markdown",
      "metadata": {
        "id": "HSEC4mEySWcZ"
      },
      "source": [
        "# Partie I\n",
        "\n",
        "Objectifs :\n",
        "- Créer un jeu de données ;\n",
        "- Mettre le texte en minuscule ;\n",
        "- Suppression de la ponctuation ;\n",
        "- Séparation en tokens ;\n",
        "- Visualisation du vocabulaire des articles classé par ordre décroissant avec un barplot ;\n",
        "- Suppression des stopwords ;\n",
        "- Visualisation du vocabulaire des articles classé par ordre décroissant avec un barplot après supression des stopwords ;\n",
        "- Création d'une version avec stemming du document ;\n",
        "- Visualisation du vocabulaire des articles classé par ordre décroissant avec un barplot après le stemming ;\n",
        "- Création d'une version avec lemmatization du document ;\n",
        "- Visualisation du vocabulaire des articles classé par ordre décroissant avec un barplot après la lemmatization ;\n"
      ]
    },
    {
      "cell_type": "markdown",
      "metadata": {
        "id": "YmmcT3k5ZrQV"
      },
      "source": [
        "## Importations des packages"
      ]
    },
    {
      "cell_type": "code",
      "metadata": {
        "colab": {
          "base_uri": "https://localhost:8080/"
        },
        "id": "sXPNc6P3ZuEq",
        "outputId": "bf917766-0b5c-41a0-eab3-63138b8078db"
      },
      "source": [
        "from nltk.tokenize import word_tokenize\n",
        "from nltk.text import Text\n",
        "from nltk.stem.lancaster import LancasterStemmer\n",
        "from nltk.stem import WordNetLemmatizer\n",
        "import nltk\n",
        "import os\n",
        "\n",
        "import numpy as np\n",
        "import pandas as pd\n",
        "import matplotlib.pyplot as plt\n",
        "\n",
        "nltk.download('punkt')\n",
        "nltk.download('stopwords')\n",
        "nltk.download('wordnet')\n",
        "nltk.download('averaged_perceptron_tagger')"
      ],
      "execution_count": 1,
      "outputs": [
        {
          "output_type": "stream",
          "name": "stderr",
          "text": [
            "[nltk_data] Downloading package punkt to /root/nltk_data...\n",
            "[nltk_data]   Unzipping tokenizers/punkt.zip.\n",
            "[nltk_data] Downloading package stopwords to /root/nltk_data...\n",
            "[nltk_data]   Unzipping corpora/stopwords.zip.\n",
            "[nltk_data] Downloading package wordnet to /root/nltk_data...\n",
            "[nltk_data] Downloading package averaged_perceptron_tagger to\n",
            "[nltk_data]     /root/nltk_data...\n",
            "[nltk_data]   Unzipping taggers/averaged_perceptron_tagger.zip.\n"
          ]
        },
        {
          "output_type": "execute_result",
          "data": {
            "text/plain": [
              "True"
            ]
          },
          "metadata": {},
          "execution_count": 1
        }
      ]
    },
    {
      "cell_type": "markdown",
      "metadata": {
        "id": "CZJ8Idw4Zx8T"
      },
      "source": [
        "## Importations des données\n",
        "\n",
        "Les données sont issue de [cette base de données](https://cs.nyu.edu/~kcho/DMQA/).\n",
        "\n",
        "Maintenant que nos outils sont chargés, nous allons charger nos données.\n",
        "\n",
        "Cliquez sur le lien ci-dessous :\n",
        "\n",
        "https://drive.google.com/drive/folders/12OmusfAUOcoLOCwEc--nfkKQ5eEozU45?usp=sharing\n",
        "\n",
        "Cliquer droit sur le dossier data et appuyer sur ajouter à mon drive."
      ]
    },
    {
      "cell_type": "code",
      "metadata": {
        "id": "fzZiAVnSRB-u",
        "colab": {
          "base_uri": "https://localhost:8080/"
        },
        "outputId": "2f136e00-526f-4615-e2d5-ded2a8c0b29f"
      },
      "source": [
        "from google.colab import drive\n",
        "drive.mount('/content/gdrive/')"
      ],
      "execution_count": 2,
      "outputs": [
        {
          "output_type": "stream",
          "name": "stdout",
          "text": [
            "Mounted at /content/gdrive/\n"
          ]
        }
      ]
    },
    {
      "cell_type": "markdown",
      "metadata": {
        "id": "8Njk5BWjZ4K4"
      },
      "source": [
        "Les données sont maintenant dans votre environnement collab."
      ]
    },
    {
      "cell_type": "code",
      "metadata": {
        "colab": {
          "base_uri": "https://localhost:8080/"
        },
        "id": "NGebIlFrZoVR",
        "outputId": "bfae6875-f6e1-42c0-8b26-8a35e550821f"
      },
      "source": [
        "import os\n",
        "print(os.listdir('gdrive/MyDrive/Exercice_1/Partie_1')[:10])"
      ],
      "execution_count": 3,
      "outputs": [
        {
          "output_type": "stream",
          "name": "stdout",
          "text": [
            "['0a3ff2f0a147c158845afa44d2a012064896566b.story', '0a3fff5779a8f7cfdde5d284a429ab89fd5e85df.story', '0a0f56ebc5a0a67ed18de79d99b40a42d8058d04.story', '0a3ad75d92c5bc2eccf2763df86afe5ddeffed75.story', '0a3f2400ba4e5cdf4b3638ae6fb60fdfa12a2680.story', '0a3f567efff9f0748b2758c9e8c17dc66beade04.story', '0a05b14962b2e73bbff82086762e0e23d32b359f.story', '0a1ad82d161d90d758240407cb8c8fcebff4a212.story', '0a4ec4d37683347ca62b53982d2c5f4efb86f444.story', '0a4b2d4ea5fb0625e3e747525062f0a85345e4df.story']\n"
          ]
        }
      ]
    },
    {
      "cell_type": "markdown",
      "metadata": {
        "id": "rrHBJQqyeTzY"
      },
      "source": [
        "## Création de la base de données"
      ]
    },
    {
      "cell_type": "code",
      "metadata": {
        "id": "R4txkYW_aBdV"
      },
      "source": [
        "cmpt = 0\n",
        "dict_data = dict()\n",
        "\n",
        "for file_name in os.listdir('gdrive/MyDrive/Exercice_1/Partie_1'):\n",
        "    #print(file_name)\n",
        "\n",
        "    # This needs to be done *inside the loop*\n",
        "    f = open('gdrive/MyDrive/Exercice_1/Partie_1/'+file_name, 'r')\n",
        "    lst = \"\"\n",
        "    for line in f:\n",
        "       line.strip()\n",
        "       line = line.replace(\"\\n\" ,'')\n",
        "       line = line.replace(\"//\" , '')\n",
        "       line = line.replace(\"/\" , '')\n",
        "       if len(line) > 0 :\n",
        "          lst += line\n",
        "\n",
        "    dict_data[cmpt] = lst\n",
        "    cmpt += 1\n"
      ],
      "execution_count": 4,
      "outputs": []
    },
    {
      "cell_type": "code",
      "metadata": {
        "colab": {
          "base_uri": "https://localhost:8080/"
        },
        "id": "da3oFcBpaRFM",
        "outputId": "2fc33665-ddf7-4261-8826-82e89a237709"
      },
      "source": [
        "len(dict_data)"
      ],
      "execution_count": 5,
      "outputs": [
        {
          "output_type": "execute_result",
          "data": {
            "text/plain": [
              "50"
            ]
          },
          "metadata": {},
          "execution_count": 5
        }
      ]
    },
    {
      "cell_type": "markdown",
      "metadata": {
        "id": "zblR3PUulPJH"
      },
      "source": [
        "## En minuscule"
      ]
    },
    {
      "cell_type": "code",
      "metadata": {
        "id": "F8KB3C_OlVdD"
      },
      "source": [
        "dict_data_min = dict()\n",
        "for k, v in dict_data.items():\n",
        "  dict_data_min[k] = v.lower()"
      ],
      "execution_count": 6,
      "outputs": []
    },
    {
      "cell_type": "markdown",
      "metadata": {
        "id": "PnADqXpAeW5R"
      },
      "source": [
        "## Tokenization"
      ]
    },
    {
      "cell_type": "code",
      "metadata": {
        "id": "-rpbffFIdYrw"
      },
      "source": [
        "dict_data_token = dict()\n",
        "for k, v in dict_data_min.items():\n",
        "  tokenizer = nltk.RegexpTokenizer(r'\\w+')\n",
        "  tokens = tokenizer.tokenize(v)\n",
        "  dict_data_token[k] = tokens"
      ],
      "execution_count": 7,
      "outputs": []
    },
    {
      "cell_type": "markdown",
      "metadata": {
        "id": "ICzt3a3ZeaPE"
      },
      "source": [
        "## Visualization du vocabulaire"
      ]
    },
    {
      "cell_type": "markdown",
      "metadata": {
        "id": "LwW0gxbpeGkv"
      },
      "source": [
        "Calcul du vocabulaire des articles."
      ]
    },
    {
      "cell_type": "code",
      "metadata": {
        "id": "7iyarBM1e1Iy"
      },
      "source": [
        "stats, freq = dict(), dict()\n",
        "\n",
        "for k, v in dict_data_token.items():\n",
        "  freq[k] = fq = nltk.FreqDist(v)\n",
        "  stats[k] = {'total': len(v)}"
      ],
      "execution_count": 8,
      "outputs": []
    },
    {
      "cell_type": "markdown",
      "metadata": {
        "id": "pjnxrroBhO0Z"
      },
      "source": [
        "Visualisation du vocabulaire des articles classé par ordre décroissant."
      ]
    },
    {
      "cell_type": "code",
      "metadata": {
        "colab": {
          "base_uri": "https://localhost:8080/",
          "height": 475
        },
        "id": "ZKLvScdYfHQK",
        "outputId": "f3a1b45c-c418-4bc2-83f0-4f0d7b853f7d"
      },
      "source": [
        "df = pd.DataFrame.from_dict(stats, orient='index')\n",
        "df = df.sort_values(by='total', ascending=False)\n",
        "\n",
        "df.plot(kind='bar')\n",
        "plt.ylabel('Longueur du vocabulaire')\n",
        "plt.xlabel(\"Id de l'article\")\n",
        "plt.title('Vocabulaire des articles')\n",
        "plt.show()"
      ],
      "execution_count": 9,
      "outputs": [
        {
          "output_type": "display_data",
          "data": {
            "text/plain": [
              "<Figure size 640x480 with 1 Axes>"
            ],
            "image/png": "[encoded data removed]"
          },
          "metadata": {}
        }
      ]
    },
    {
      "cell_type": "markdown",
      "metadata": {
        "id": "O5qb72hYhk6W"
      },
      "source": [
        "## Les stopwords"
      ]
    },
    {
      "cell_type": "markdown",
      "metadata": {
        "id": "VAOG5C6liK0x"
      },
      "source": [
        "Suppression des stopwords."
      ]
    },
    {
      "cell_type": "code",
      "metadata": {
        "id": "6vRS3MmQhrW6"
      },
      "source": [
        "dict_data_stop = dict()\n",
        "\n",
        "for k, v in dict_data_token.items():\n",
        "  dict_data_stop[k] = [w for w in v if not w in list(nltk.corpus.stopwords.words())]"
      ],
      "execution_count": 10,
      "outputs": []
    },
    {
      "cell_type": "markdown",
      "metadata": {
        "id": "gIl52lb5iNZw"
      },
      "source": [
        "Calcul du vocabulaire des articles."
      ]
    },
    {
      "cell_type": "code",
      "metadata": {
        "id": "Wi92CANgiHD_"
      },
      "source": [
        "stats, freq = dict(), dict()\n",
        "\n",
        "for k, v in dict_data_stop.items():\n",
        "  freq[k] = fq = nltk.FreqDist(v)\n",
        "  stats[k] = {'total': len(v)}"
      ],
      "execution_count": 11,
      "outputs": []
    },
    {
      "cell_type": "markdown",
      "metadata": {
        "id": "EnwurzweiQTE"
      },
      "source": [
        "Visualisation du vocabulaire des articles classé par ordre décroissant après supression des stopwords."
      ]
    },
    {
      "cell_type": "code",
      "metadata": {
        "colab": {
          "base_uri": "https://localhost:8080/",
          "height": 475
        },
        "id": "seuMb61QiHpe",
        "outputId": "d6dfde93-5b55-4efa-c26f-db8c000ca5c7"
      },
      "source": [
        "df = pd.DataFrame.from_dict(stats, orient='index')\n",
        "df = df.sort_values(by='total', ascending=False)\n",
        "\n",
        "df.plot(kind='bar')\n",
        "plt.ylabel('Longueur du vocabulaire')\n",
        "plt.xlabel(\"Id de l'article\")\n",
        "plt.title('Vocabulaire des articles')\n",
        "plt.show()"
      ],
      "execution_count": 12,
      "outputs": [
        {
          "output_type": "display_data",
          "data": {
            "text/plain": [
              "<Figure size 640x480 with 1 Axes>"
            ],
            "image/png": "[encoded data removed]"
          },
          "metadata": {}
        }
      ]
    },
    {
      "cell_type": "markdown",
      "metadata": {
        "id": "R4yKIhidisOA"
      },
      "source": [
        "## Stemming"
      ]
    },
    {
      "cell_type": "code",
      "metadata": {
        "id": "GZvvb441iuIV"
      },
      "source": [
        "dict_data_stem = dict()\n",
        "st = LancasterStemmer()\n",
        "\n",
        "for k, v in dict_data_stop.items():\n",
        "  dict_data_stem[k] = [st.stem(w) for w in v ]"
      ],
      "execution_count": 13,
      "outputs": []
    },
    {
      "cell_type": "code",
      "metadata": {
        "id": "e2Ckl0Sbjfyo"
      },
      "source": [
        "stats, freq = dict(), dict()\n",
        "\n",
        "for k, v in dict_data_stem.items():\n",
        "  freq[k] = fq = nltk.FreqDist(v)\n",
        "  stats[k] = {'total': len(v)}"
      ],
      "execution_count": 14,
      "outputs": []
    },
    {
      "cell_type": "code",
      "metadata": {
        "colab": {
          "base_uri": "https://localhost:8080/",
          "height": 475
        },
        "id": "leC0m_pPjlWT",
        "outputId": "223d7eda-3217-4a49-f78b-3567ee58d1c1"
      },
      "source": [
        "df = pd.DataFrame.from_dict(stats, orient='index')\n",
        "df = df.sort_values(by='total', ascending=False)\n",
        "\n",
        "df.plot(kind='bar')\n",
        "plt.ylabel('Longueur du vocabulaire')\n",
        "plt.xlabel(\"Id de l'article\")\n",
        "plt.title('Vocabulaire des articles')\n",
        "plt.show()"
      ],
      "execution_count": 15,
      "outputs": [
        {
          "output_type": "display_data",
          "data": {
            "text/plain": [
              "<Figure size 640x480 with 1 Axes>"
            ],
            "image/png": "[encoded data removed]"
          },
          "metadata": {}
        }
      ]
    },
    {
      "cell_type": "markdown",
      "metadata": {
        "id": "WofRCuC7mOU_"
      },
      "source": [
        "## Lemmatization"
      ]
    },
    {
      "cell_type": "code",
      "metadata": {
        "id": "fM_Q_M6-mv3Y"
      },
      "source": [
        "dict_data_lem = dict()\n",
        "word_lemmatizer = WordNetLemmatizer()\n",
        "\n",
        "for k, v in dict_data_stop.items():\n",
        "  dict_data_lem[k] = [word_lemmatizer.lemmatize(w) for w in v ]"
      ],
      "execution_count": 16,
      "outputs": []
    },
    {
      "cell_type": "code",
      "metadata": {
        "id": "WvQUEpXCnF5f"
      },
      "source": [
        "stats, freq = dict(), dict()\n",
        "\n",
        "for k, v in dict_data_stem.items():\n",
        "  freq[k] = fq = nltk.FreqDist(v)\n",
        "  stats[k] = {'total': len(v)}"
      ],
      "execution_count": 17,
      "outputs": []
    },
    {
      "cell_type": "code",
      "metadata": {
        "colab": {
          "base_uri": "https://localhost:8080/",
          "height": 475
        },
        "id": "w--oRix2nIRt",
        "outputId": "c5709bf1-b981-4829-9b72-cc8d6bf66d5e"
      },
      "source": [
        "df = pd.DataFrame.from_dict(stats, orient='index')\n",
        "df = df.sort_values(by='total', ascending=False)\n",
        "\n",
        "df.plot(kind='bar')\n",
        "plt.ylabel('Longueur du vocabulaire')\n",
        "plt.xlabel(\"Id de l'article\")\n",
        "plt.title('Vocabulaire des articles')\n",
        "plt.show()"
      ],
      "execution_count": 18,
      "outputs": [
        {
          "output_type": "display_data",
          "data": {
            "text/plain": [
              "<Figure size 640x480 with 1 Axes>"
            ],
            "image/png": "[encoded data removed]"
          },
          "metadata": {}
        }
      ]
    },
    {
      "cell_type": "markdown",
      "metadata": {
        "id": "fQ7aZ0wIe07V"
      },
      "source": [
        "## Exemple d'un texte au cours de la transformation"
      ]
    },
    {
      "cell_type": "code",
      "metadata": {
        "colab": {
          "base_uri": "https://localhost:8080/"
        },
        "id": "6bMQFhbzk2uR",
        "outputId": "d3a09b01-2861-4746-bd40-a8600129bdd5"
      },
      "source": [
        "print(\"Original : \")\n",
        "print(dict_data[0][:55])\n",
        "print(\"Minuscule : \")\n",
        "print(dict_data_min[0][:55])\n",
        "print(\"Tokenization : \")\n",
        "print(dict_data_token[0][:5])\n",
        "print(\"Stopwords : \")\n",
        "print(dict_data_stop[0][:5])\n",
        "print(\"Stemming : \")\n",
        "print(dict_data_stem[0][:5])\n",
        "print(\"Lemmatization : \")\n",
        "print(dict_data_lem[0][:5])"
      ],
      "execution_count": 19,
      "outputs": [
        {
          "metadata": {
            "tags": null
          },
          "name": "stdout",
          "output_type": "stream",
          "text": [
            "Original : \n",
            "LOS ANGELES, California (CNN)  -- After about 30 hours \n",
            "Minuscule : \n",
            "los angeles, california (cnn)  -- after about 30 hours \n",
            "Tokenization : \n",
            "['los', 'angeles', 'california', 'cnn', 'after']\n",
            "Stopwords : \n",
            "['angeles', 'california', 'cnn', '30', 'hours']\n",
            "Stemming : \n",
            "['angel', 'californ', 'cnn', '30', 'hour']\n",
            "Lemmatization : \n",
            "['angeles', 'california', 'cnn', '30', 'hour']\n"
          ]
        }
      ]
    },
    {
      "cell_type": "markdown",
      "metadata": {
        "id": "4IBUmVP2pKbu"
      },
      "source": [
        "# Partie II - Détecter le language du texte grâce au stopwords"
      ]
    },
    {
      "cell_type": "markdown",
      "metadata": {
        "id": "8sqxiGxip10r"
      },
      "source": [
        "Les stopwords sont les mots les plus utilisés dans un texte grâce à eux essayé de prédire la langue du texte.\n",
        "\n",
        "Prédire pour cinq languages :\n",
        "- Français ;\n",
        "- Anglais ;\n",
        "- Espagnol ;\n",
        "- Italien ;\n",
        "- Russe.\n",
        "\n",
        "Vous pourrez trouver de l'aide via ce [lien](https://www.nltk.org/book/ch02.html).\n"
      ]
    },
    {
      "cell_type": "markdown",
      "metadata": {
        "id": "eVR9MFaKyvhv"
      },
      "source": [
        "## Importation des données"
      ]
    },
    {
      "cell_type": "markdown",
      "metadata": {
        "id": "q87Gv3zj-cpm"
      },
      "source": [
        "Les données proviennent de ce [jeux de données](https://zenodo.org/record/841984#.X_Jb2ulKjBI)."
      ]
    },
    {
      "cell_type": "code",
      "metadata": {
        "colab": {
          "base_uri": "https://localhost:8080/"
        },
        "id": "WNiV9Sll-CrM",
        "outputId": "916b94c8-e4b9-47b7-9787-f063565cef96"
      },
      "source": [
        "x_text = pd.read_csv('gdrive/MyDrive/Exercice_1/Partie_2/x_text.csv')\n",
        "y_text = pd.read_csv('gdrive/MyDrive/Exercice_1/Partie_2/y_text.csv')\n",
        "print(x_text.shape)\n",
        "print(y_text.shape)"
      ],
      "execution_count": 20,
      "outputs": [
        {
          "output_type": "stream",
          "name": "stdout",
          "text": [
            "(2500, 1)\n",
            "(2500, 1)\n"
          ]
        }
      ]
    },
    {
      "cell_type": "code",
      "metadata": {
        "colab": {
          "base_uri": "https://localhost:8080/",
          "height": 206
        },
        "id": "EiKZbvHN-yvP",
        "outputId": "1e12f227-1ec9-485a-bd68-a36139f1c63f"
      },
      "source": [
        "x_text.head()"
      ],
      "execution_count": 21,
      "outputs": [
        {
          "output_type": "execute_result",
          "data": {
            "text/plain": [
              "                                                text\n",
              "0  16 апреля 2009 года в Шатойском районе произош...\n",
              "1  La ciudad de San Cristóbal es sede del Hospita...\n",
              "2  Les supporters de l'ASM Clermont Auvergne ont ...\n",
              "3  Anton (or Antonius) Maria Schyrleus (also Schy...\n",
              "4  Ralph Staub est un réalisateur, producteur, sc..."
            ],
            "text/html": [
              "\n",
              "  <div id=\"df-c1c4ce67-1552-4fda-80ad-9d91903835b4\" class=\"colab-df-container\">\n",
              "    <div>\n",
              "<style scoped>\n",
              "    .dataframe tbody tr th:only-of-type {\n",
              "        vertical-align: middle;\n",
              "    }\n",
              "\n",
              "    .dataframe tbody tr th {\n",
              "        vertical-align: top;\n",
              "    }\n",
              "\n",
              "    .dataframe thead th {\n",
              "        text-align: right;\n",
              "    }\n",
              "</style>\n",
              "<table border=\"1\" class=\"dataframe\">\n",
              "  <thead>\n",
              "    <tr style=\"text-align: right;\">\n",
              "      <th></th>\n",
              "      <th>text</th>\n",
              "    </tr>\n",
              "  </thead>\n",
              "  <tbody>\n",
              "    <tr>\n",
              "      <th>0</th>\n",
              "      <td>16 апреля 2009 года в Шатойском районе произош...</td>\n",
              "    </tr>\n",
              "    <tr>\n",
              "      <th>1</th>\n",
              "      <td>La ciudad de San Cristóbal es sede del Hospita...</td>\n",
              "    </tr>\n",
              "    <tr>\n",
              "      <th>2</th>\n",
              "      <td>Les supporters de l'ASM Clermont Auvergne ont ...</td>\n",
              "    </tr>\n",
              "    <tr>\n",
              "      <th>3</th>\n",
              "      <td>Anton (or Antonius) Maria Schyrleus (also Schy...</td>\n",
              "    </tr>\n",
              "    <tr>\n",
              "      <th>4</th>\n",
              "      <td>Ralph Staub est un réalisateur, producteur, sc...</td>\n",
              "    </tr>\n",
              "  </tbody>\n",
              "</table>\n",
              "</div>\n",
              "    <div class=\"colab-df-buttons\">\n",
              "\n",
              "  <div class=\"colab-df-container\">\n",
              "    <button class=\"colab-df-convert\" onclick=\"convertToInteractive('df-c1c4ce67-1552-4fda-80ad-9d91903835b4')\"\n",
              "            title=\"Convert this dataframe to an interactive table.\"\n",
              "            style=\"display:none;\">\n",
              "\n",
              "  <svg xmlns=\"http://www.w3.org/2000/svg\" height=\"24px\" viewBox=\"0 -960 960 960\">\n",
              "    <path d=\"M120-120v-720h720v720H120Zm60-500h600v-160H180v160Zm220 220h160v-160H400v160Zm0 220h160v-160H400v160ZM180-400h160v-160H180v160Zm440 0h160v-160H620v160ZM180-180h160v-160H180v160Zm440 0h160v-160H620v160Z\"/>\n",
              "  </svg>\n",
              "    </button>\n",
              "\n",
              "  <style>\n",
              "    .colab-df-container {\n",
              "      display:flex;\n",
              "      gap: 12px;\n",
              "    }\n",
              "\n",
              "    .colab-df-convert {\n",
              "      background-color: #E8F0FE;\n",
              "      border: none;\n",
              "      border-radius: 50%;\n",
              "      cursor: pointer;\n",
              "      display: none;\n",
              "      fill: #1967D2;\n",
              "      height: 32px;\n",
              "      padding: 0 0 0 0;\n",
              "      width: 32px;\n",
              "    }\n",
              "\n",
              "    .colab-df-convert:hover {\n",
              "      background-color: #E2EBFA;\n",
              "      box-shadow: 0px 1px 2px rgba(60, 64, 67, 0.3), 0px 1px 3px 1px rgba(60, 64, 67, 0.15);\n",
              "      fill: #174EA6;\n",
              "    }\n",
              "\n",
              "    .colab-df-buttons div {\n",
              "      margin-bottom: 4px;\n",
              "    }\n",
              "\n",
              "    [theme=dark] .colab-df-convert {\n",
              "      background-color: #3B4455;\n",
              "      fill: #D2E3FC;\n",
              "    }\n",
              "\n",
              "    [theme=dark] .colab-df-convert:hover {\n",
              "      background-color: #434B5C;\n",
              "      box-shadow: 0px 1px 3px 1px rgba(0, 0, 0, 0.15);\n",
              "      filter: drop-shadow(0px 1px 2px rgba(0, 0, 0, 0.3));\n",
              "      fill: #FFFFFF;\n",
              "    }\n",
              "  </style>\n",
              "\n",
              "    <script>\n",
              "      const buttonEl =\n",
              "        document.querySelector('#df-c1c4ce67-1552-4fda-80ad-9d91903835b4 button.colab-df-convert');\n",
              "      buttonEl.style.display =\n",
              "        google.colab.kernel.accessAllowed ? 'block' : 'none';\n",
              "\n",
              "      async function convertToInteractive(key) {\n",
              "        const element = document.querySelector('#df-c1c4ce67-1552-4fda-80ad-9d91903835b4');\n",
              "        const dataTable =\n",
              "          await google.colab.kernel.invokeFunction('convertToInteractive',\n",
              "                                                    [key], {});\n",
              "        if (!dataTable) return;\n",
              "\n",
              "        const docLinkHtml = 'Like what you see? Visit the ' +\n",
              "          '<a target=\"_blank\" href=https://colab.research.google.com/notebooks/data_table.ipynb>data table notebook</a>'\n",
              "          + ' to learn more about interactive tables.';\n",
              "        element.innerHTML = '';\n",
              "        dataTable['output_type'] = 'display_data';\n",
              "        await google.colab.output.renderOutput(dataTable, element);\n",
              "        const docLink = document.createElement('div');\n",
              "        docLink.innerHTML = docLinkHtml;\n",
              "        element.appendChild(docLink);\n",
              "      }\n",
              "    </script>\n",
              "  </div>\n",
              "\n",
              "\n",
              "<div id=\"df-0bd054bf-d15f-4464-b3f4-c6294d6a4d6c\">\n",
              "  <button class=\"colab-df-quickchart\" onclick=\"quickchart('df-0bd054bf-d15f-4464-b3f4-c6294d6a4d6c')\"\n",
              "            title=\"Suggest charts\"\n",
              "            style=\"display:none;\">\n",
              "\n",
              "<svg xmlns=\"http://www.w3.org/2000/svg\" height=\"24px\"viewBox=\"0 0 24 24\"\n",
              "     width=\"24px\">\n",
              "    <g>\n",
              "        <path d=\"M19 3H5c-1.1 0-2 .9-2 2v14c0 1.1.9 2 2 2h14c1.1 0 2-.9 2-2V5c0-1.1-.9-2-2-2zM9 17H7v-7h2v7zm4 0h-2V7h2v10zm4 0h-2v-4h2v4z\"/>\n",
              "    </g>\n",
              "</svg>\n",
              "  </button>\n",
              "\n",
              "<style>\n",
              "  .colab-df-quickchart {\n",
              "      --bg-color: #E8F0FE;\n",
              "      --fill-color: #1967D2;\n",
              "      --hover-bg-color: #E2EBFA;\n",
              "      --hover-fill-color: #174EA6;\n",
              "      --disabled-fill-color: #AAA;\n",
              "      --disabled-bg-color: #DDD;\n",
              "  }\n",
              "\n",
              "  [theme=dark] .colab-df-quickchart {\n",
              "      --bg-color: #3B4455;\n",
              "      --fill-color: #D2E3FC;\n",
              "      --hover-bg-color: #434B5C;\n",
              "      --hover-fill-color: #FFFFFF;\n",
              "      --disabled-bg-color: #3B4455;\n",
              "      --disabled-fill-color: #666;\n",
              "  }\n",
              "\n",
              "  .colab-df-quickchart {\n",
              "    background-color: var(--bg-color);\n",
              "    border: none;\n",
              "    border-radius: 50%;\n",
              "    cursor: pointer;\n",
              "    display: none;\n",
              "    fill: var(--fill-color);\n",
              "    height: 32px;\n",
              "    padding: 0;\n",
              "    width: 32px;\n",
              "  }\n",
              "\n",
              "  .colab-df-quickchart:hover {\n",
              "    background-color: var(--hover-bg-color);\n",
              "    box-shadow: 0 1px 2px rgba(60, 64, 67, 0.3), 0 1px 3px 1px rgba(60, 64, 67, 0.15);\n",
              "    fill: var(--button-hover-fill-color);\n",
              "  }\n",
              "\n",
              "  .colab-df-quickchart-complete:disabled,\n",
              "  .colab-df-quickchart-complete:disabled:hover {\n",
              "    background-color: var(--disabled-bg-color);\n",
              "    fill: var(--disabled-fill-color);\n",
              "    box-shadow: none;\n",
              "  }\n",
              "\n",
              "  .colab-df-spinner {\n",
              "    border: 2px solid var(--fill-color);\n",
              "    border-color: transparent;\n",
              "    border-bottom-color: var(--fill-color);\n",
              "    animation:\n",
              "      spin 1s steps(1) infinite;\n",
              "  }\n",
              "\n",
              "  @keyframes spin {\n",
              "    0% {\n",
              "      border-color: transparent;\n",
              "      border-bottom-color: var(--fill-color);\n",
              "      border-left-color: var(--fill-color);\n",
              "    }\n",
              "    20% {\n",
              "      border-color: transparent;\n",
              "      border-left-color: var(--fill-color);\n",
              "      border-top-color: var(--fill-color);\n",
              "    }\n",
              "    30% {\n",
              "      border-color: transparent;\n",
              "      border-left-color: var(--fill-color);\n",
              "      border-top-color: var(--fill-color);\n",
              "      border-right-color: var(--fill-color);\n",
              "    }\n",
              "    40% {\n",
              "      border-color: transparent;\n",
              "      border-right-color: var(--fill-color);\n",
              "      border-top-color: var(--fill-color);\n",
              "    }\n",
              "    60% {\n",
              "      border-color: transparent;\n",
              "      border-right-color: var(--fill-color);\n",
              "    }\n",
              "    80% {\n",
              "      border-color: transparent;\n",
              "      border-right-color: var(--fill-color);\n",
              "      border-bottom-color: var(--fill-color);\n",
              "    }\n",
              "    90% {\n",
              "      border-color: transparent;\n",
              "      border-bottom-color: var(--fill-color);\n",
              "    }\n",
              "  }\n",
              "</style>\n",
              "\n",
              "  <script>\n",
              "    async function quickchart(key) {\n",
              "      const quickchartButtonEl =\n",
              "        document.querySelector('#' + key + ' button');\n",
              "      quickchartButtonEl.disabled = true;  // To prevent multiple clicks.\n",
              "      quickchartButtonEl.classList.add('colab-df-spinner');\n",
              "      try {\n",
              "        const charts = await google.colab.kernel.invokeFunction(\n",
              "            'suggestCharts', [key], {});\n",
              "      } catch (error) {\n",
              "        console.error('Error during call to suggestCharts:', error);\n",
              "      }\n",
              "      quickchartButtonEl.classList.remove('colab-df-spinner');\n",
              "      quickchartButtonEl.classList.add('colab-df-quickchart-complete');\n",
              "    }\n",
              "    (() => {\n",
              "      let quickchartButtonEl =\n",
              "        document.querySelector('#df-0bd054bf-d15f-4464-b3f4-c6294d6a4d6c button');\n",
              "      quickchartButtonEl.style.display =\n",
              "        google.colab.kernel.accessAllowed ? 'block' : 'none';\n",
              "    })();\n",
              "  </script>\n",
              "</div>\n",
              "\n",
              "    </div>\n",
              "  </div>\n"
            ],
            "application/vnd.google.colaboratory.intrinsic+json": {
              "type": "dataframe",
              "variable_name": "x_text",
              "summary": "{\n  \"name\": \"x_text\",\n  \"rows\": 2500,\n  \"fields\": [\n    {\n      \"column\": \"text\",\n      \"properties\": {\n        \"dtype\": \"string\",\n        \"num_unique_values\": 2496,\n        \"samples\": [\n          \"\\u0412 1988 \\u0433\\u043e\\u0434\\u0443 \\u0420\\u0443\\u0441\\u0441\\u043a\\u0430\\u044f \\u043f\\u0440\\u0430\\u0432\\u043e\\u0441\\u043b\\u0430\\u0432\\u043d\\u0430\\u044f \\u0446\\u0435\\u0440\\u043a\\u043e\\u0432\\u044c \\u0438\\u043c\\u0435\\u043b\\u0430 \\u0443\\u0436\\u0435 8,5 \\u0442\\u044b\\u0441\\u044f\\u0447 \\u043f\\u0440\\u0438\\u0445\\u043e\\u0434\\u043e\\u0432 \\u0438 76 \\u0435\\u043f\\u0430\\u0440\\u0445\\u0438\\u0439 \\u043d\\u0430 \\u0442\\u0435\\u0440\\u0440\\u0438\\u0442\\u043e\\u0440\\u0438\\u0438 \\u0421\\u0421\\u0421\\u0420, \\u0430 \\u0442\\u0430\\u043a\\u0436\\u0435 120 \\u0437\\u0430\\u0440\\u0443\\u0431\\u0435\\u0436\\u043d\\u044b\\u0445 \\u043f\\u0440\\u0438\\u0445\\u043e\\u0434\\u043e\\u0432, \\u043e\\u0431\\u044a\\u0435\\u0434\\u0438\\u043d\\u0451\\u043d\\u043d\\u044b\\u0445 \\u0432 3 \\u0431\\u043b\\u0430\\u0433\\u043e\\u0447\\u0438\\u043d\\u0438\\u044f (\\u0424\\u0438\\u043d\\u043b\\u044f\\u043d\\u0434\\u0441\\u043a\\u043e\\u0435, \\u0412\\u0435\\u043d\\u0433\\u0435\\u0440\\u0441\\u043a\\u043e\\u0435, \\u041c\\u0435\\u043a\\u0441\\u0438\\u043a\\u0430\\u043d\\u0441\\u043a\\u043e\\u0435) \\u0438 3 \\u044d\\u043a\\u0437\\u0430\\u0440\\u0445\\u0430\\u0442\\u0430 (\\u0417\\u0430\\u043f\\u0430\\u0434\\u043d\\u043e\\u0435\\u0432\\u0440\\u043e\\u043f\\u0435\\u0439\\u0441\\u043a\\u0438\\u0439, \\u0421\\u0440\\u0435\\u0434\\u043d\\u0435\\u0435\\u0432\\u0440\\u043e\\u043f\\u0435\\u0439\\u0441\\u043a\\u0438\\u0439, \\u0426\\u0435\\u043d\\u0442\\u0440\\u0430\\u043b\\u044c\\u043d\\u043e- \\u0438 \\u042e\\u0436\\u043d\\u043e-\\u0410\\u043c\\u0435\\u0440\\u0438\\u043a\\u0430\\u043d\\u0441\\u043a\\u0438\\u0439), 20 \\u043c\\u043e\\u043d\\u0430\\u0441\\u0442\\u044b\\u0440\\u0435\\u0439, \\u0438\\u0437 \\u043a\\u043e\\u0442\\u043e\\u0440\\u044b\\u0445 \\u0434\\u0432\\u0430 \\u0437\\u0430\\u0440\\u0443\\u0431\\u0435\\u0436\\u043d\\u044b\\u0435: \\u043c\\u0443\\u0436\\u0441\\u043a\\u043e\\u0439 \\u041f\\u0430\\u043d\\u0442\\u0435\\u043b\\u0435\\u0438\\u043c\\u043e\\u043d\\u043e\\u0432 \\u043d\\u0430 \\u0410\\u0444\\u043e\\u043d\\u0435 (\\u044e\\u0440\\u0438\\u0441\\u0434\\u0438\\u043a\\u0446\\u0438\\u043e\\u043d\\u043d\\u043e \\u043d\\u0430\\u0445\\u043e\\u0434\\u044f\\u0449\\u0438\\u0439\\u0441\\u044f \\u0432 \\u0432\\u0435\\u0434\\u0435\\u043d\\u0438\\u0438 \\u0412\\u0441\\u0435\\u043b\\u0435\\u043d\\u0441\\u043a\\u043e\\u0433\\u043e \\u043f\\u0430\\u0442\\u0440\\u0438\\u0430\\u0440\\u0445\\u0430) \\u0438 \\u0436\\u0435\\u043d\\u0441\\u043a\\u0438\\u0439 \\u0413\\u043e\\u0440\\u043d\\u0435\\u043d\\u0441\\u043a\\u0438\\u0439 \\u0432\\u0431\\u043b\\u0438\\u0437\\u0438 \\u0418\\u0435\\u0440\\u0443\\u0441\\u0430\\u043b\\u0438\\u043c\\u0430.\",\n          \"At the same time, pupil behavior was becoming less inhibited, much to the distress of the adult population. Henry W. Foster, Superintendent of the District from 1900\\u20131927, described the conditions in 1913: \\\"Long before prohibition was adopted, venturesome boys were surreptitiously now and then bringing liquor to dances to add to the excitement. There was a decided reversion to animalistic excitement. Musical rhythm from the wilds of barbarism stirred the pulse. The dance abandoned the restraint and refinement of waltz and polka; Bunny Hug, Turkey Trot, Fox Trot, and Shimmey began to reign.\\\"\",\n          \"\\u041d\\u0430\\u0447\\u0438\\u043d\\u0430\\u044f \\u0441 1987 \\u0433\\u043e\\u0434\\u0430, \\u0432 \\u0440\\u0430\\u043c\\u043a\\u0430\\u0445 \\u043f\\u0440\\u043e\\u0432\\u043e\\u0434\\u0438\\u0432\\u0448\\u0435\\u0439\\u0441\\u044f \\u043f\\u0440\\u0438 \\u041c\\u0438\\u0445\\u0430\\u0438\\u043b\\u0435 \\u0413\\u043e\\u0440\\u0431\\u0430\\u0447\\u0451\\u0432\\u0435 \\u043f\\u043e\\u043b\\u0438\\u0442\\u0438\\u043a\\u0438 \\u0433\\u043b\\u0430\\u0441\\u043d\\u043e\\u0441\\u0442\\u0438 \\u0438 \\u043f\\u0435\\u0440\\u0435\\u0441\\u0442\\u0440\\u043e\\u0439\\u043a\\u0438, \\u043d\\u0430\\u0447\\u0430\\u043b\\u0441\\u044f \\u043f\\u043e\\u0441\\u0442\\u0435\\u043f\\u0435\\u043d\\u043d\\u044b\\u0439 \\u043f\\u0440\\u043e\\u0446\\u0435\\u0441\\u0441 \\u043f\\u0435\\u0440\\u0435\\u0434\\u0430\\u0447\\u0438 \\u0432 \\u043f\\u043e\\u043b\\u044c\\u0437\\u043e\\u0432\\u0430\\u043d\\u0438\\u0435 \\u041f\\u0430\\u0442\\u0440\\u0438\\u0430\\u0440\\u0445\\u0438\\u0438, \\u0435\\u043f\\u0430\\u0440\\u0445\\u0438\\u0439 \\u0438 \\u043e\\u0431\\u0449\\u0438\\u043d \\u0432\\u0435\\u0440\\u0443\\u044e\\u0449\\u0438\\u0445 \\u0437\\u0434\\u0430\\u043d\\u0438\\u0439 \\u0438 \\u0438\\u043c\\u0443\\u0449\\u0435\\u0441\\u0442\\u0432\\u0430, \\u0440\\u0430\\u043d\\u0435\\u0435 \\u043d\\u0430\\u0445\\u043e\\u0434\\u0438\\u0432\\u0448\\u0438\\u0445\\u0441\\u044f \\u0432 \\u0446\\u0435\\u0440\\u043a\\u043e\\u0432\\u043d\\u043e\\u043c \\u0432\\u0435\\u0434\\u0435\\u043d\\u0438\\u0438, \\u043f\\u0440\\u043e\\u0438\\u0441\\u0445\\u043e\\u0434\\u0438\\u043b\\u0430 \\u043b\\u0438\\u0431\\u0435\\u0440\\u0430\\u043b\\u0438\\u0437\\u0430\\u0446\\u0438\\u044f \\u0440\\u0435\\u0436\\u0438\\u043c\\u0430 \\u043a\\u043e\\u043d\\u0442\\u0440\\u043e\\u043b\\u044f \\u043d\\u0430\\u0434 \\u0440\\u0435\\u043b\\u0438\\u0433\\u0438\\u043e\\u0437\\u043d\\u043e\\u0439 \\u0436\\u0438\\u0437\\u043d\\u044c\\u044e \\u0438 \\u043e\\u0442\\u043c\\u0435\\u043d\\u0430 \\u043e\\u0433\\u0440\\u0430\\u043d\\u0438\\u0447\\u0435\\u043d\\u0438\\u0439 \\u0434\\u0435\\u044f\\u0442\\u0435\\u043b\\u044c\\u043d\\u043e\\u0441\\u0442\\u0438 \\u0440\\u0435\\u043b\\u0438\\u0433\\u0438\\u043e\\u0437\\u043d\\u044b\\u0445 \\u043e\\u0431\\u044a\\u0435\\u0434\\u0438\\u043d\\u0435\\u043d\\u0438\\u0439. \\u0412\\u0430\\u0436\\u043d\\u043e\\u0439 \\u0432\\u0435\\u0445\\u043e\\u0439 \\u044f\\u0432\\u0438\\u043b\\u0441\\u044f 1988 \\u0433\\u043e\\u0434 \\u2014 \\u0433\\u043e\\u0434 \\u043f\\u0440\\u0430\\u0437\\u0434\\u043d\\u043e\\u0432\\u0430\\u043d\\u0438\\u044f \\u0442\\u044b\\u0441\\u044f\\u0447\\u0435\\u043b\\u0435\\u0442\\u0438\\u044f \\u041a\\u0440\\u0435\\u0449\\u0435\\u043d\\u0438\\u044f \\u0420\\u0443\\u0441\\u0438 \\u0438 \\u043f\\u0440\\u043e\\u0432\\u0435\\u0434\\u0435\\u043d\\u0438\\u044f \\u044e\\u0431\\u0438\\u043b\\u0435\\u0439\\u043d\\u043e\\u0433\\u043e \\u043f\\u043e\\u043c\\u0435\\u0441\\u0442\\u043d\\u043e\\u0433\\u043e \\u0441\\u043e\\u0431\\u043e\\u0440\\u0430 \\u0420\\u041f\\u0426. \\u0411\\u044b\\u043b \\u0441\\u043d\\u044f\\u0442 \\u0437\\u0430\\u043f\\u0440\\u0435\\u0442 \\u043d\\u0430 \\u043e\\u0441\\u0432\\u0435\\u0449\\u0435\\u043d\\u0438\\u0435 \\u0440\\u0435\\u043b\\u0438\\u0433\\u0438\\u043e\\u0437\\u043d\\u043e\\u0439 \\u0436\\u0438\\u0437\\u043d\\u0438 \\u0432 \\u0421\\u0421\\u0421\\u0420 \\u043f\\u043e \\u0442\\u0435\\u043b\\u0435\\u0432\\u0438\\u0434\\u0435\\u043d\\u0438\\u044e \\u2014 \\u0432\\u043f\\u0435\\u0440\\u0432\\u044b\\u0435 \\u0432 \\u0438\\u0441\\u0442\\u043e\\u0440\\u0438\\u0438 \\u0421\\u043e\\u0432\\u0435\\u0442\\u0441\\u043a\\u043e\\u0433\\u043e \\u0421\\u043e\\u044e\\u0437\\u0430 \\u043b\\u044e\\u0434\\u0438 \\u0441\\u043c\\u043e\\u0433\\u043b\\u0438 \\u0432\\u0438\\u0434\\u0435\\u0442\\u044c \\u043f\\u0440\\u044f\\u043c\\u044b\\u0435 \\u0442\\u0440\\u0430\\u043d\\u0441\\u043b\\u044f\\u0446\\u0438\\u0438 \\u0431\\u043e\\u0433\\u043e\\u0441\\u043b\\u0443\\u0436\\u0435\\u043d\\u0438\\u0439 \\u043f\\u043e \\u0442\\u0435\\u043b\\u0435\\u0432\\u0438\\u0437\\u043e\\u0440\\u0443.\"\n        ],\n        \"semantic_type\": \"\",\n        \"description\": \"\"\n      }\n    }\n  ]\n}"
            }
          },
          "metadata": {},
          "execution_count": 21
        }
      ]
    },
    {
      "cell_type": "code",
      "metadata": {
        "colab": {
          "base_uri": "https://localhost:8080/"
        },
        "id": "qu0hSDfD-1K-",
        "outputId": "d937e3a0-190c-4d62-ea22-f4cdb87d7db9"
      },
      "source": [
        "lang = np.unique(y_text)\n",
        "print(lang)"
      ],
      "execution_count": 22,
      "outputs": [
        {
          "output_type": "stream",
          "name": "stdout",
          "text": [
            "['english' 'french' 'italian' 'russian' 'spanish']\n"
          ]
        }
      ]
    },
    {
      "cell_type": "markdown",
      "metadata": {
        "id": "v16Dd1VFzLNf"
      },
      "source": [
        "## Les stopwords"
      ]
    },
    {
      "cell_type": "markdown",
      "metadata": {
        "id": "WqYnAwF7r3GR"
      },
      "source": [
        "Vous pouvez voir ci-dessous les différentes langues pour lesquels nltk à des stopwords."
      ]
    },
    {
      "cell_type": "code",
      "metadata": {
        "colab": {
          "base_uri": "https://localhost:8080/"
        },
        "id": "kxb884V5nz6D",
        "outputId": "26d01707-a5b0-403b-8ca6-f545b4d7d0d9"
      },
      "source": [
        "nltk.corpus.stopwords.fileids()"
      ],
      "execution_count": 23,
      "outputs": [
        {
          "output_type": "execute_result",
          "data": {
            "text/plain": [
              "['arabic',\n",
              " 'azerbaijani',\n",
              " 'basque',\n",
              " 'bengali',\n",
              " 'catalan',\n",
              " 'chinese',\n",
              " 'danish',\n",
              " 'dutch',\n",
              " 'english',\n",
              " 'finnish',\n",
              " 'french',\n",
              " 'german',\n",
              " 'greek',\n",
              " 'hebrew',\n",
              " 'hinglish',\n",
              " 'hungarian',\n",
              " 'indonesian',\n",
              " 'italian',\n",
              " 'kazakh',\n",
              " 'nepali',\n",
              " 'norwegian',\n",
              " 'portuguese',\n",
              " 'romanian',\n",
              " 'russian',\n",
              " 'slovene',\n",
              " 'spanish',\n",
              " 'swedish',\n",
              " 'tajik',\n",
              " 'turkish']"
            ]
          },
          "metadata": {},
          "execution_count": 23
        }
      ]
    },
    {
      "cell_type": "markdown",
      "metadata": {
        "id": "jz8cXLSRs89l"
      },
      "source": [
        "Visualisation des stopwords pour quelques unes des langues."
      ]
    },
    {
      "cell_type": "code",
      "metadata": {
        "colab": {
          "base_uri": "https://localhost:8080/"
        },
        "id": "dwjkbQKmsmnd",
        "outputId": "97514c3e-5c2e-474d-9a47-39365b06d929"
      },
      "source": [
        "nltk.corpus.stopwords.words('russian')[:10]"
      ],
      "execution_count": 24,
      "outputs": [
        {
          "output_type": "execute_result",
          "data": {
            "text/plain": [
              "['и', 'в', 'во', 'не', 'что', 'он', 'на', 'я', 'с', 'со']"
            ]
          },
          "metadata": {},
          "execution_count": 24
        }
      ]
    },
    {
      "cell_type": "code",
      "metadata": {
        "colab": {
          "base_uri": "https://localhost:8080/"
        },
        "id": "Pt1Sk2ffsXBZ",
        "outputId": "ae0d697d-f8b1-4861-e005-03fa74b527a4"
      },
      "source": [
        "nltk.corpus.stopwords.words('norwegian')[:10]"
      ],
      "execution_count": 25,
      "outputs": [
        {
          "data": {
            "text/plain": [
              "['og', 'i', 'jeg', 'det', 'at', 'en', 'et', 'den', 'til', 'er']"
            ]
          },
          "execution_count": 25,
          "metadata": {},
          "output_type": "execute_result"
        }
      ]
    },
    {
      "cell_type": "code",
      "metadata": {
        "colab": {
          "base_uri": "https://localhost:8080/"
        },
        "id": "bwWLU2TissxA",
        "outputId": "f1b91ef2-fdb7-4634-e1a1-942ffb59f63b"
      },
      "source": [
        "nltk.corpus.stopwords.words('tajik')[:10]"
      ],
      "execution_count": 26,
      "outputs": [
        {
          "data": {
            "text/plain": [
              "['аз', 'дар', 'ба', 'бо', 'барои', 'бе', 'то', 'ҷуз', 'пеши', 'назди']"
            ]
          },
          "execution_count": 26,
          "metadata": {},
          "output_type": "execute_result"
        }
      ]
    },
    {
      "cell_type": "code",
      "metadata": {
        "colab": {
          "base_uri": "https://localhost:8080/"
        },
        "id": "jHRoTp_Hsvxf",
        "outputId": "a1ea6c75-db3c-46ce-f9a6-8d4722bd3e2a"
      },
      "source": [
        "nltk.corpus.stopwords.words('arabic')[:10]"
      ],
      "execution_count": 27,
      "outputs": [
        {
          "data": {
            "text/plain": [
              "['إذ', 'إذا', 'إذما', 'إذن', 'أف', 'أقل', 'أكثر', 'ألا', 'إلا', 'التي']"
            ]
          },
          "execution_count": 27,
          "metadata": {},
          "output_type": "execute_result"
        }
      ]
    },
    {
      "cell_type": "markdown",
      "metadata": {
        "id": "fyXgzCUm_fhS"
      },
      "source": [
        "## Comparaison des mots"
      ]
    },
    {
      "cell_type": "code",
      "metadata": {
        "id": "__cQJzKcEXR8"
      },
      "source": [
        "y_pred = list()\n",
        "\n",
        "for line in x_text.iterrows() :\n",
        "  language_ratios = {}\n",
        "\n",
        "  tokenizer = nltk.RegexpTokenizer(r'\\w+')\n",
        "  tokens = tokenizer.tokenize(line[1]['text'])\n",
        "  test_words = [word.lower() for word in tokens]\n",
        "  test_words_set = set(test_words)\n",
        "\n",
        "  for language in lang:\n",
        "    stopwords_set = set(nltk.corpus.stopwords.words(language))\n",
        "    common_elements = test_words_set.intersection(stopwords_set)\n",
        "    language_ratios[language] = len(common_elements)\n",
        "\n",
        "  y_pred.append(lang[np.argmax(np.fromiter(language_ratios.values(), dtype=float))])"
      ],
      "execution_count": 28,
      "outputs": []
    },
    {
      "cell_type": "code",
      "metadata": {
        "colab": {
          "base_uri": "https://localhost:8080/"
        },
        "id": "esVa081JF279",
        "outputId": "5218db04-1085-43e5-bf93-789cd0052219"
      },
      "source": [
        "accuracy = 0\n",
        "for y_1, y_2 in zip(y_pred, y_text['label']) :\n",
        "\n",
        "  if y_1 == y_2 :\n",
        "    accuracy += 1\n",
        "accuracy /= len(y_pred)\n",
        "print(accuracy*100)"
      ],
      "execution_count": 29,
      "outputs": [
        {
          "output_type": "stream",
          "name": "stdout",
          "text": [
            "98.04\n"
          ]
        }
      ]
    }
  ]
}