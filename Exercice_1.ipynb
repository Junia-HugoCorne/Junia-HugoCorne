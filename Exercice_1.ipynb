{
  "nbformat": 4,
  "nbformat_minor": 0,
  "metadata": {
    "colab": {
      "provenance": []
    },
    "kernelspec": {
      "name": "python3",
      "display_name": "Python 3"
    }
  },
  "cells": [
    {
      "cell_type": "markdown",
      "metadata": {
        "id": "HSEC4mEySWcZ"
      },
      "source": [
        "# Partie I\n",
        "\n",
        "Objectifs :\n",
        "- Créer un jeu de données ;\n",
        "- Mettre le texte en minuscule ;\n",
        "- Suppression de la ponctuation ;\n",
        "- Séparation en tokens ;\n",
        "- Visualisation du vocabulaire des articles classé par ordre décroissant avec un barplot ;\n",
        "- Suppression des stopwords ;\n",
        "- Visualisation du vocabulaire des articles classé par ordre décroissant avec un barplot après supression des stopwords ;\n",
        "- Création d'une version avec stemming du document ;\n",
        "- Visualisation du vocabulaire des articles classé par ordre décroissant avec un barplot après le stemming ;\n",
        "- Création d'une version avec lemmatization du document ;\n",
        "- Visualisation du vocabulaire des articles classé par ordre décroissant avec un barplot après la lemmatization ;\n"
      ]
    },
    {
      "cell_type": "markdown",
      "metadata": {
        "id": "YmmcT3k5ZrQV"
      },
      "source": [
        "## Importations des packages"
      ]
    },
    {
      "cell_type": "code",
      "metadata": {
        "colab": {
          "base_uri": "https://localhost:8080/"
        },
        "id": "sXPNc6P3ZuEq",
        "outputId": "ba05b373-406d-431c-8563-80c0c28c9011"
      },
      "source": [
        "from nltk.tokenize import word_tokenize\n",
        "from nltk.text import Text\n",
        "from nltk.corpus import stopwords\n",
        "from nltk.stem.lancaster import LancasterStemmer\n",
        "from nltk.stem import WordNetLemmatizer\n",
        "import nltk\n",
        "\n",
        "from collections import Counter\n",
        "\n",
        "import string\n",
        "import numpy as np\n",
        "import pandas as pd\n",
        "import matplotlib.pyplot as plt\n",
        "\n",
        "nltk.download('punkt')\n",
        "nltk.download('stopwords')\n",
        "nltk.download('wordnet')\n",
        "nltk.download('averaged_perceptron_tagger')"
      ],
      "execution_count": 63,
      "outputs": [
        {
          "output_type": "stream",
          "name": "stderr",
          "text": [
            "[nltk_data] Downloading package punkt to /root/nltk_data...\n",
            "[nltk_data]   Package punkt is already up-to-date!\n",
            "[nltk_data] Downloading package stopwords to /root/nltk_data...\n",
            "[nltk_data]   Package stopwords is already up-to-date!\n",
            "[nltk_data] Downloading package wordnet to /root/nltk_data...\n",
            "[nltk_data]   Package wordnet is already up-to-date!\n",
            "[nltk_data] Downloading package averaged_perceptron_tagger to\n",
            "[nltk_data]     /root/nltk_data...\n",
            "[nltk_data]   Package averaged_perceptron_tagger is already up-to-\n",
            "[nltk_data]       date!\n"
          ]
        },
        {
          "output_type": "execute_result",
          "data": {
            "text/plain": [
              "True"
            ]
          },
          "metadata": {},
          "execution_count": 63
        }
      ]
    },
    {
      "cell_type": "markdown",
      "metadata": {
        "id": "CZJ8Idw4Zx8T"
      },
      "source": [
        "## Importations des données\n",
        "\n",
        "Les données sont issue de [cette base de données](https://cs.nyu.edu/~kcho/DMQA/).\n",
        "\n",
        "Maintenant que nos outils sont chargés, nous allons charger nos données.\n",
        "\n",
        "Cliquez sur le lien ci-dessous :\n",
        "\n",
        "https://drive.google.com/drive/folders/12OmusfAUOcoLOCwEc--nfkKQ5eEozU45?usp=sharing\n",
        "\n",
        "Cliquer droit sur le dossier data et appuyer sur ajouter à mon drive."
      ]
    },
    {
      "cell_type": "code",
      "metadata": {
        "id": "fzZiAVnSRB-u",
        "colab": {
          "base_uri": "https://localhost:8080/"
        },
        "outputId": "a8ba0629-d85a-459b-ca9d-17f3af5f4e46"
      },
      "source": [
        "from google.colab import drive\n",
        "drive.mount('/content/gdrive/')"
      ],
      "execution_count": 64,
      "outputs": [
        {
          "output_type": "stream",
          "name": "stdout",
          "text": [
            "Drive already mounted at /content/gdrive/; to attempt to forcibly remount, call drive.mount(\"/content/gdrive/\", force_remount=True).\n"
          ]
        }
      ]
    },
    {
      "cell_type": "markdown",
      "metadata": {
        "id": "8Njk5BWjZ4K4"
      },
      "source": [
        "Les données sont maintenant dans votre environnement collab."
      ]
    },
    {
      "cell_type": "code",
      "metadata": {
        "colab": {
          "base_uri": "https://localhost:8080/"
        },
        "id": "NGebIlFrZoVR",
        "outputId": "111083e8-f5fb-4fe9-d53d-a94b0a3c6417"
      },
      "source": [
        "import os\n",
        "print(os.listdir('gdrive/MyDrive/Exercice_1/Partie_1')[:10])"
      ],
      "execution_count": 65,
      "outputs": [
        {
          "output_type": "stream",
          "name": "stdout",
          "text": [
            "['0a0a4c90d59df9e36ffec4ba306b4f20f3ba4acb.story', '0a3ff2f0a147c158845afa44d2a012064896566b.story', '0a3fff5779a8f7cfdde5d284a429ab89fd5e85df.story', '0a0f56ebc5a0a67ed18de79d99b40a42d8058d04.story', '0a3ad75d92c5bc2eccf2763df86afe5ddeffed75.story', '0a3f2400ba4e5cdf4b3638ae6fb60fdfa12a2680.story', '0a3f567efff9f0748b2758c9e8c17dc66beade04.story', '0a05b14962b2e73bbff82086762e0e23d32b359f.story', '0a1ad82d161d90d758240407cb8c8fcebff4a212.story', '0a4ec4d37683347ca62b53982d2c5f4efb86f444.story']\n"
          ]
        }
      ]
    },
    {
      "cell_type": "markdown",
      "metadata": {
        "id": "rrHBJQqyeTzY"
      },
      "source": [
        "## Création de la base de données"
      ]
    },
    {
      "cell_type": "code",
      "source": [
        "# Monter Google Drive\n",
        "data_path = 'gdrive/MyDrive/Exercice_1/Partie_1'\n",
        "\n",
        "# Charger et afficher les 10 premiers fichiers\n",
        "files = os.listdir(data_path)[:10]\n",
        "print(\"Fichiers disponibles :\", files)\n",
        "\n",
        "# Lire un fichier texte pour créer une base de données\n",
        "with open(os.path.join(data_path, files[0]), 'r', encoding='utf-8') as file:\n",
        "    text_data = file.read()\n",
        "\n",
        "print(\"Exemple de contenu :\", text_data[:500])  # Afficher les 500 premiers caractères\n"
      ],
      "metadata": {
        "id": "1HVP3I2VwfsH",
        "outputId": "64e99f84-ee39-4feb-891c-22a6bfcfe16e",
        "colab": {
          "base_uri": "https://localhost:8080/"
        }
      },
      "execution_count": 66,
      "outputs": [
        {
          "output_type": "stream",
          "name": "stdout",
          "text": [
            "Fichiers disponibles : ['0a0a4c90d59df9e36ffec4ba306b4f20f3ba4acb.story', '0a3ff2f0a147c158845afa44d2a012064896566b.story', '0a3fff5779a8f7cfdde5d284a429ab89fd5e85df.story', '0a0f56ebc5a0a67ed18de79d99b40a42d8058d04.story', '0a3ad75d92c5bc2eccf2763df86afe5ddeffed75.story', '0a3f2400ba4e5cdf4b3638ae6fb60fdfa12a2680.story', '0a3f567efff9f0748b2758c9e8c17dc66beade04.story', '0a05b14962b2e73bbff82086762e0e23d32b359f.story', '0a1ad82d161d90d758240407cb8c8fcebff4a212.story', '0a4ec4d37683347ca62b53982d2c5f4efb86f444.story']\n",
            "Exemple de contenu : (CNN) -- Can a movie actually convince you to support torture? Can a movie really persuade you that \"fracking\" -- a process used to drill for natural gas -- is a danger to the environment? Can a movie truly cause you to view certain minority groups in a negative light?\n",
            "\n",
            "Some scoff at the notion that movies do anything more than entertain. They are wrong. Sure, it's unlikely that one movie alone will change your views on issues of magnitude. But a movie (or TV show) can begin your \"education\" or \n"
          ]
        }
      ]
    },
    {
      "cell_type": "markdown",
      "metadata": {
        "id": "zblR3PUulPJH"
      },
      "source": [
        "\n",
        "## En minuscule"
      ]
    },
    {
      "cell_type": "code",
      "source": [
        "# Mise en minuscule\n",
        "text_lower = text_data.lower()\n",
        "print(\"Texte en minuscule :\", text_lower[:500])"
      ],
      "metadata": {
        "id": "jWkYONvJwqlw",
        "outputId": "97c23638-ad30-43a1-8c30-01156888e807",
        "colab": {
          "base_uri": "https://localhost:8080/"
        }
      },
      "execution_count": 67,
      "outputs": [
        {
          "output_type": "stream",
          "name": "stdout",
          "text": [
            "Texte en minuscule : (cnn) -- can a movie actually convince you to support torture? can a movie really persuade you that \"fracking\" -- a process used to drill for natural gas -- is a danger to the environment? can a movie truly cause you to view certain minority groups in a negative light?\n",
            "\n",
            "some scoff at the notion that movies do anything more than entertain. they are wrong. sure, it's unlikely that one movie alone will change your views on issues of magnitude. but a movie (or tv show) can begin your \"education\" or \n"
          ]
        }
      ]
    },
    {
      "cell_type": "markdown",
      "metadata": {
        "id": "ffTDhLkA0JeF"
      },
      "source": [
        "## Suppresion de la ponctuaction"
      ]
    },
    {
      "cell_type": "code",
      "source": [
        "# Suppression de la ponctuation\n",
        "text_no_punctuation = text_lower.translate(str.maketrans('', '', string.punctuation))\n",
        "print(\"Texte sans ponctuation :\", text_no_punctuation[:500])"
      ],
      "metadata": {
        "id": "KePVKWnJ0BVm",
        "outputId": "c6e7d5f3-5c60-4116-edf8-5afa09759ded",
        "colab": {
          "base_uri": "https://localhost:8080/"
        }
      },
      "execution_count": 68,
      "outputs": [
        {
          "output_type": "stream",
          "name": "stdout",
          "text": [
            "Texte sans ponctuation : cnn  can a movie actually convince you to support torture can a movie really persuade you that fracking  a process used to drill for natural gas  is a danger to the environment can a movie truly cause you to view certain minority groups in a negative light\n",
            "\n",
            "some scoff at the notion that movies do anything more than entertain they are wrong sure its unlikely that one movie alone will change your views on issues of magnitude but a movie or tv show can begin your education or miseducation on a topi\n"
          ]
        }
      ]
    },
    {
      "cell_type": "markdown",
      "metadata": {
        "id": "PnADqXpAeW5R"
      },
      "source": [
        "## Tokenization"
      ]
    },
    {
      "cell_type": "code",
      "source": [
        "# Tokenisation\n",
        "tokens = word_tokenize(text_lower)\n",
        "tokens = word_tokenize(text_no_punctuation)\n",
        "print(\"Exemple de tokens :\", tokens[:20])"
      ],
      "metadata": {
        "id": "7vkfT-_vwwga",
        "outputId": "b84f8fd3-d20a-46a5-de84-d5528510f3b6",
        "colab": {
          "base_uri": "https://localhost:8080/"
        }
      },
      "execution_count": 69,
      "outputs": [
        {
          "output_type": "stream",
          "name": "stdout",
          "text": [
            "Exemple de tokens : ['cnn', 'can', 'a', 'movie', 'actually', 'convince', 'you', 'to', 'support', 'torture', 'can', 'a', 'movie', 'really', 'persuade', 'you', 'that', 'fracking', 'a', 'process']\n"
          ]
        }
      ]
    },
    {
      "cell_type": "markdown",
      "metadata": {
        "id": "ICzt3a3ZeaPE"
      },
      "source": [
        "## Visualization du vocabulaire"
      ]
    },
    {
      "cell_type": "code",
      "source": [
        "# Comptage des tokens\n",
        "vocab_counter = Counter(tokens)\n",
        "\n",
        "# Vocabulaire classé par ordre décroissant\n",
        "vocab_sorted = vocab_counter.most_common(20)\n",
        "print(\"Vocabulaire le plus fréquent :\", vocab_sorted)\n",
        "\n",
        "# Visualisation\n",
        "plt.figure(figsize=(10, 6))\n",
        "plt.bar(*zip(*vocab_sorted))\n",
        "plt.title(\"Vocabulaire classé par ordre décroissant\")\n",
        "plt.ylabel(\"Fréquence\")\n",
        "plt.xlabel(\"Mots\")\n",
        "plt.show()"
      ],
      "metadata": {
        "id": "WE3gZsw2xYw8",
        "outputId": "233805fe-5056-4ce8-f70a-734df0d995cd",
        "colab": {
          "base_uri": "https://localhost:8080/",
          "height": 602
        }
      },
      "execution_count": 70,
      "outputs": [
        {
          "output_type": "stream",
          "name": "stdout",
          "text": [
            "Vocabulaire le plus fréquent : [('the', 43), ('of', 23), ('to', 22), ('and', 21), ('that', 20), ('a', 16), ('in', 13), ('on', 11), ('films', 10), ('can', 9), ('are', 9), ('you', 8), ('as', 8), ('movie', 7), ('torture', 7), ('or', 7), ('for', 6), ('is', 6), ('they', 6), ('it', 6)]\n"
          ]
        },
        {
          "output_type": "display_data",
          "data": {
            "text/plain": [
              "<Figure size 1000x600 with 1 Axes>"
            ],
            "image/png": "[encoded data removed]"
          },
          "metadata": {}
        }
      ]
    },
    {
      "cell_type": "markdown",
      "metadata": {
        "id": "O5qb72hYhk6W"
      },
      "source": [
        "## Les stopwords"
      ]
    },
    {
      "cell_type": "code",
      "source": [
        "stop_words = set(stopwords.words('english'))\n",
        "\n",
        "# Filtrage des stopwords\n",
        "filtered_tokens = [token for token in tokens if token not in stop_words]\n",
        "\n",
        "# Comptage et visualisation\n",
        "filtered_vocab_counter = Counter(filtered_tokens)\n",
        "filtered_vocab_sorted = filtered_vocab_counter.most_common(20)\n",
        "\n",
        "plt.figure(figsize=(10, 6))\n",
        "plt.bar(*zip(*filtered_vocab_sorted))\n",
        "plt.title(\"Vocabulaire après suppression des stopwords\")\n",
        "plt.ylabel(\"Fréquence\")\n",
        "plt.xlabel(\"Mots\")\n",
        "plt.show()"
      ],
      "metadata": {
        "id": "BhC6I6Wtxz7Q",
        "outputId": "e44a089a-df9e-4d38-e64f-f070c8ca7a5e",
        "colab": {
          "base_uri": "https://localhost:8080/",
          "height": 565
        }
      },
      "execution_count": 71,
      "outputs": [
        {
          "output_type": "display_data",
          "data": {
            "text/plain": [
              "<Figure size 1000x600 with 1 Axes>"
            ],
            "image/png": "[encoded data removed]"
          },
          "metadata": {}
        }
      ]
    },
    {
      "cell_type": "markdown",
      "metadata": {
        "id": "R4yKIhidisOA"
      },
      "source": [
        "## Stemming"
      ]
    },
    {
      "cell_type": "code",
      "source": [
        "# Appliquer le stemming\n",
        "stemmer = LancasterStemmer()\n",
        "stemmed_tokens = [stemmer.stem(token) for token in filtered_tokens]\n",
        "\n",
        "# Comptage et visualisation\n",
        "stemmed_vocab_counter = Counter(stemmed_tokens)\n",
        "stemmed_vocab_sorted = stemmed_vocab_counter.most_common(20)\n",
        "\n",
        "plt.figure(figsize=(10, 6))\n",
        "plt.bar(*zip(*stemmed_vocab_sorted))\n",
        "plt.title(\"Vocabulaire après stemming\")\n",
        "plt.ylabel(\"Fréquence\")\n",
        "plt.xlabel(\"Mots\")\n",
        "plt.show()"
      ],
      "metadata": {
        "id": "urejW2UGyMyF",
        "outputId": "01e3c8c5-d3a4-446f-9987-dc34720f3410",
        "colab": {
          "base_uri": "https://localhost:8080/",
          "height": 565
        }
      },
      "execution_count": 72,
      "outputs": [
        {
          "output_type": "display_data",
          "data": {
            "text/plain": [
              "<Figure size 1000x600 with 1 Axes>"
            ],
            "image/png": "[encoded data removed]"
          },
          "metadata": {}
        }
      ]
    },
    {
      "cell_type": "markdown",
      "metadata": {
        "id": "WofRCuC7mOU_"
      },
      "source": [
        "## Lemmatization"
      ]
    },
    {
      "cell_type": "code",
      "source": [
        "# Appliquer la lemmatisation\n",
        "lemmatizer = WordNetLemmatizer()\n",
        "lemmatized_tokens = [lemmatizer.lemmatize(token) for token in filtered_tokens]\n",
        "\n",
        "# Comptage et visualisation\n",
        "lemmatized_vocab_counter = Counter(lemmatized_tokens)\n",
        "lemmatized_vocab_sorted = lemmatized_vocab_counter.most_common(20)\n",
        "\n",
        "plt.figure(figsize=(10, 6))\n",
        "plt.bar(*zip(*lemmatized_vocab_sorted))\n",
        "plt.title(\"Vocabulaire après lemmatisation\")\n",
        "plt.ylabel(\"Fréquence\")\n",
        "plt.xlabel(\"Mots\")\n",
        "plt.show()"
      ],
      "metadata": {
        "id": "EnKdhJQHyT9q",
        "outputId": "ad4482b5-d008-4a2c-9797-2db343e9826a",
        "colab": {
          "base_uri": "https://localhost:8080/",
          "height": 565
        }
      },
      "execution_count": 73,
      "outputs": [
        {
          "output_type": "display_data",
          "data": {
            "text/plain": [
              "<Figure size 1000x600 with 1 Axes>"
            ],
            "image/png": "[encoded data removed]"
          },
          "metadata": {}
        }
      ]
    },
    {
      "cell_type": "markdown",
      "metadata": {
        "id": "4IBUmVP2pKbu"
      },
      "source": [
        "# Partie II - Détecter le language du texte grâce au stopwords"
      ]
    },
    {
      "cell_type": "markdown",
      "metadata": {
        "id": "8sqxiGxip10r"
      },
      "source": [
        "Les stopwords sont les mots les plus utilisés dans un texte grâce à eux essayé de prédire la langue du texte.\n",
        "\n",
        "Prédire pour cinq languages :\n",
        "- Français ;\n",
        "- Anglais ;\n",
        "- Espagnol ;\n",
        "- Italien ;\n",
        "- Russe.\n",
        "\n",
        "Vérifier le nombre de stopwords de chaque langue dans un texte. La langue prédit sera celle avec le plus de stopwords.\n",
        "\n",
        "Vous pourrez trouver de l'aide via ce [lien](https://www.nltk.org/book/ch02.html).\n"
      ]
    },
    {
      "cell_type": "markdown",
      "metadata": {
        "id": "eVR9MFaKyvhv"
      },
      "source": [
        "## Importation des données"
      ]
    },
    {
      "cell_type": "markdown",
      "metadata": {
        "id": "q87Gv3zj-cpm"
      },
      "source": [
        "Les données proviennent de ce [jeux de données](https://zenodo.org/record/841984#.X_Jb2ulKjBI)."
      ]
    },
    {
      "cell_type": "code",
      "metadata": {
        "colab": {
          "base_uri": "https://localhost:8080/"
        },
        "id": "WNiV9Sll-CrM",
        "outputId": "6fd7ecb8-3465-41cd-92ce-4000f89ee18e"
      },
      "source": [
        "x_text = pd.read_csv('gdrive/MyDrive/Exercice_1/Partie_2/x_text.csv')\n",
        "y_text = pd.read_csv('gdrive/MyDrive/Exercice_1/Partie_2/y_text.csv')\n",
        "print(x_text.shape)\n",
        "print(y_text.shape)"
      ],
      "execution_count": 74,
      "outputs": [
        {
          "output_type": "stream",
          "name": "stdout",
          "text": [
            "(2500, 1)\n",
            "(2500, 1)\n"
          ]
        }
      ]
    },
    {
      "cell_type": "code",
      "metadata": {
        "colab": {
          "base_uri": "https://localhost:8080/",
          "height": 206
        },
        "id": "EiKZbvHN-yvP",
        "outputId": "574a6a09-fe2c-4675-fd87-4fc8c889d3e5"
      },
      "source": [
        "x_text.head()"
      ],
      "execution_count": 75,
      "outputs": [
        {
          "output_type": "execute_result",
          "data": {
            "text/plain": [
              "                                                text\n",
              "0  16 апреля 2009 года в Шатойском районе произош...\n",
              "1  La ciudad de San Cristóbal es sede del Hospita...\n",
              "2  Les supporters de l'ASM Clermont Auvergne ont ...\n",
              "3  Anton (or Antonius) Maria Schyrleus (also Schy...\n",
              "4  Ralph Staub est un réalisateur, producteur, sc..."
            ],
            "text/html": [
              "\n",
              "  <div id=\"df-9773ea89-1323-447e-bf61-76d5c6e3525c\" class=\"colab-df-container\">\n",
              "    <div>\n",
              "<style scoped>\n",
              "    .dataframe tbody tr th:only-of-type {\n",
              "        vertical-align: middle;\n",
              "    }\n",
              "\n",
              "    .dataframe tbody tr th {\n",
              "        vertical-align: top;\n",
              "    }\n",
              "\n",
              "    .dataframe thead th {\n",
              "        text-align: right;\n",
              "    }\n",
              "</style>\n",
              "<table border=\"1\" class=\"dataframe\">\n",
              "  <thead>\n",
              "    <tr style=\"text-align: right;\">\n",
              "      <th></th>\n",
              "      <th>text</th>\n",
              "    </tr>\n",
              "  </thead>\n",
              "  <tbody>\n",
              "    <tr>\n",
              "      <th>0</th>\n",
              "      <td>16 апреля 2009 года в Шатойском районе произош...</td>\n",
              "    </tr>\n",
              "    <tr>\n",
              "      <th>1</th>\n",
              "      <td>La ciudad de San Cristóbal es sede del Hospita...</td>\n",
              "    </tr>\n",
              "    <tr>\n",
              "      <th>2</th>\n",
              "      <td>Les supporters de l'ASM Clermont Auvergne ont ...</td>\n",
              "    </tr>\n",
              "    <tr>\n",
              "      <th>3</th>\n",
              "      <td>Anton (or Antonius) Maria Schyrleus (also Schy...</td>\n",
              "    </tr>\n",
              "    <tr>\n",
              "      <th>4</th>\n",
              "      <td>Ralph Staub est un réalisateur, producteur, sc...</td>\n",
              "    </tr>\n",
              "  </tbody>\n",
              "</table>\n",
              "</div>\n",
              "    <div class=\"colab-df-buttons\">\n",
              "\n",
              "  <div class=\"colab-df-container\">\n",
              "    <button class=\"colab-df-convert\" onclick=\"convertToInteractive('df-9773ea89-1323-447e-bf61-76d5c6e3525c')\"\n",
              "            title=\"Convert this dataframe to an interactive table.\"\n",
              "            style=\"display:none;\">\n",
              "\n",
              "  <svg xmlns=\"http://www.w3.org/2000/svg\" height=\"24px\" viewBox=\"0 -960 960 960\">\n",
              "    <path d=\"M120-120v-720h720v720H120Zm60-500h600v-160H180v160Zm220 220h160v-160H400v160Zm0 220h160v-160H400v160ZM180-400h160v-160H180v160Zm440 0h160v-160H620v160ZM180-180h160v-160H180v160Zm440 0h160v-160H620v160Z\"/>\n",
              "  </svg>\n",
              "    </button>\n",
              "\n",
              "  <style>\n",
              "    .colab-df-container {\n",
              "      display:flex;\n",
              "      gap: 12px;\n",
              "    }\n",
              "\n",
              "    .colab-df-convert {\n",
              "      background-color: #E8F0FE;\n",
              "      border: none;\n",
              "      border-radius: 50%;\n",
              "      cursor: pointer;\n",
              "      display: none;\n",
              "      fill: #1967D2;\n",
              "      height: 32px;\n",
              "      padding: 0 0 0 0;\n",
              "      width: 32px;\n",
              "    }\n",
              "\n",
              "    .colab-df-convert:hover {\n",
              "      background-color: #E2EBFA;\n",
              "      box-shadow: 0px 1px 2px rgba(60, 64, 67, 0.3), 0px 1px 3px 1px rgba(60, 64, 67, 0.15);\n",
              "      fill: #174EA6;\n",
              "    }\n",
              "\n",
              "    .colab-df-buttons div {\n",
              "      margin-bottom: 4px;\n",
              "    }\n",
              "\n",
              "    [theme=dark] .colab-df-convert {\n",
              "      background-color: #3B4455;\n",
              "      fill: #D2E3FC;\n",
              "    }\n",
              "\n",
              "    [theme=dark] .colab-df-convert:hover {\n",
              "      background-color: #434B5C;\n",
              "      box-shadow: 0px 1px 3px 1px rgba(0, 0, 0, 0.15);\n",
              "      filter: drop-shadow(0px 1px 2px rgba(0, 0, 0, 0.3));\n",
              "      fill: #FFFFFF;\n",
              "    }\n",
              "  </style>\n",
              "\n",
              "    <script>\n",
              "      const buttonEl =\n",
              "        document.querySelector('#df-9773ea89-1323-447e-bf61-76d5c6e3525c button.colab-df-convert');\n",
              "      buttonEl.style.display =\n",
              "        google.colab.kernel.accessAllowed ? 'block' : 'none';\n",
              "\n",
              "      async function convertToInteractive(key) {\n",
              "        const element = document.querySelector('#df-9773ea89-1323-447e-bf61-76d5c6e3525c');\n",
              "        const dataTable =\n",
              "          await google.colab.kernel.invokeFunction('convertToInteractive',\n",
              "                                                    [key], {});\n",
              "        if (!dataTable) return;\n",
              "\n",
              "        const docLinkHtml = 'Like what you see? Visit the ' +\n",
              "          '<a target=\"_blank\" href=https://colab.research.google.com/notebooks/data_table.ipynb>data table notebook</a>'\n",
              "          + ' to learn more about interactive tables.';\n",
              "        element.innerHTML = '';\n",
              "        dataTable['output_type'] = 'display_data';\n",
              "        await google.colab.output.renderOutput(dataTable, element);\n",
              "        const docLink = document.createElement('div');\n",
              "        docLink.innerHTML = docLinkHtml;\n",
              "        element.appendChild(docLink);\n",
              "      }\n",
              "    </script>\n",
              "  </div>\n",
              "\n",
              "\n",
              "<div id=\"df-58b5250c-4491-4a75-9928-3789005e1182\">\n",
              "  <button class=\"colab-df-quickchart\" onclick=\"quickchart('df-58b5250c-4491-4a75-9928-3789005e1182')\"\n",
              "            title=\"Suggest charts\"\n",
              "            style=\"display:none;\">\n",
              "\n",
              "<svg xmlns=\"http://www.w3.org/2000/svg\" height=\"24px\"viewBox=\"0 0 24 24\"\n",
              "     width=\"24px\">\n",
              "    <g>\n",
              "        <path d=\"M19 3H5c-1.1 0-2 .9-2 2v14c0 1.1.9 2 2 2h14c1.1 0 2-.9 2-2V5c0-1.1-.9-2-2-2zM9 17H7v-7h2v7zm4 0h-2V7h2v10zm4 0h-2v-4h2v4z\"/>\n",
              "    </g>\n",
              "</svg>\n",
              "  </button>\n",
              "\n",
              "<style>\n",
              "  .colab-df-quickchart {\n",
              "      --bg-color: #E8F0FE;\n",
              "      --fill-color: #1967D2;\n",
              "      --hover-bg-color: #E2EBFA;\n",
              "      --hover-fill-color: #174EA6;\n",
              "      --disabled-fill-color: #AAA;\n",
              "      --disabled-bg-color: #DDD;\n",
              "  }\n",
              "\n",
              "  [theme=dark] .colab-df-quickchart {\n",
              "      --bg-color: #3B4455;\n",
              "      --fill-color: #D2E3FC;\n",
              "      --hover-bg-color: #434B5C;\n",
              "      --hover-fill-color: #FFFFFF;\n",
              "      --disabled-bg-color: #3B4455;\n",
              "      --disabled-fill-color: #666;\n",
              "  }\n",
              "\n",
              "  .colab-df-quickchart {\n",
              "    background-color: var(--bg-color);\n",
              "    border: none;\n",
              "    border-radius: 50%;\n",
              "    cursor: pointer;\n",
              "    display: none;\n",
              "    fill: var(--fill-color);\n",
              "    height: 32px;\n",
              "    padding: 0;\n",
              "    width: 32px;\n",
              "  }\n",
              "\n",
              "  .colab-df-quickchart:hover {\n",
              "    background-color: var(--hover-bg-color);\n",
              "    box-shadow: 0 1px 2px rgba(60, 64, 67, 0.3), 0 1px 3px 1px rgba(60, 64, 67, 0.15);\n",
              "    fill: var(--button-hover-fill-color);\n",
              "  }\n",
              "\n",
              "  .colab-df-quickchart-complete:disabled,\n",
              "  .colab-df-quickchart-complete:disabled:hover {\n",
              "    background-color: var(--disabled-bg-color);\n",
              "    fill: var(--disabled-fill-color);\n",
              "    box-shadow: none;\n",
              "  }\n",
              "\n",
              "  .colab-df-spinner {\n",
              "    border: 2px solid var(--fill-color);\n",
              "    border-color: transparent;\n",
              "    border-bottom-color: var(--fill-color);\n",
              "    animation:\n",
              "      spin 1s steps(1) infinite;\n",
              "  }\n",
              "\n",
              "  @keyframes spin {\n",
              "    0% {\n",
              "      border-color: transparent;\n",
              "      border-bottom-color: var(--fill-color);\n",
              "      border-left-color: var(--fill-color);\n",
              "    }\n",
              "    20% {\n",
              "      border-color: transparent;\n",
              "      border-left-color: var(--fill-color);\n",
              "      border-top-color: var(--fill-color);\n",
              "    }\n",
              "    30% {\n",
              "      border-color: transparent;\n",
              "      border-left-color: var(--fill-color);\n",
              "      border-top-color: var(--fill-color);\n",
              "      border-right-color: var(--fill-color);\n",
              "    }\n",
              "    40% {\n",
              "      border-color: transparent;\n",
              "      border-right-color: var(--fill-color);\n",
              "      border-top-color: var(--fill-color);\n",
              "    }\n",
              "    60% {\n",
              "      border-color: transparent;\n",
              "      border-right-color: var(--fill-color);\n",
              "    }\n",
              "    80% {\n",
              "      border-color: transparent;\n",
              "      border-right-color: var(--fill-color);\n",
              "      border-bottom-color: var(--fill-color);\n",
              "    }\n",
              "    90% {\n",
              "      border-color: transparent;\n",
              "      border-bottom-color: var(--fill-color);\n",
              "    }\n",
              "  }\n",
              "</style>\n",
              "\n",
              "  <script>\n",
              "    async function quickchart(key) {\n",
              "      const quickchartButtonEl =\n",
              "        document.querySelector('#' + key + ' button');\n",
              "      quickchartButtonEl.disabled = true;  // To prevent multiple clicks.\n",
              "      quickchartButtonEl.classList.add('colab-df-spinner');\n",
              "      try {\n",
              "        const charts = await google.colab.kernel.invokeFunction(\n",
              "            'suggestCharts', [key], {});\n",
              "      } catch (error) {\n",
              "        console.error('Error during call to suggestCharts:', error);\n",
              "      }\n",
              "      quickchartButtonEl.classList.remove('colab-df-spinner');\n",
              "      quickchartButtonEl.classList.add('colab-df-quickchart-complete');\n",
              "    }\n",
              "    (() => {\n",
              "      let quickchartButtonEl =\n",
              "        document.querySelector('#df-58b5250c-4491-4a75-9928-3789005e1182 button');\n",
              "      quickchartButtonEl.style.display =\n",
              "        google.colab.kernel.accessAllowed ? 'block' : 'none';\n",
              "    })();\n",
              "  </script>\n",
              "</div>\n",
              "\n",
              "    </div>\n",
              "  </div>\n"
            ],
            "application/vnd.google.colaboratory.intrinsic+json": {
              "type": "dataframe",
              "variable_name": "x_text",
              "summary": "{\n  \"name\": \"x_text\",\n  \"rows\": 2500,\n  \"fields\": [\n    {\n      \"column\": \"text\",\n      \"properties\": {\n        \"dtype\": \"string\",\n        \"num_unique_values\": 2496,\n        \"samples\": [\n          \"\\u0412 1988 \\u0433\\u043e\\u0434\\u0443 \\u0420\\u0443\\u0441\\u0441\\u043a\\u0430\\u044f \\u043f\\u0440\\u0430\\u0432\\u043e\\u0441\\u043b\\u0430\\u0432\\u043d\\u0430\\u044f \\u0446\\u0435\\u0440\\u043a\\u043e\\u0432\\u044c \\u0438\\u043c\\u0435\\u043b\\u0430 \\u0443\\u0436\\u0435 8,5 \\u0442\\u044b\\u0441\\u044f\\u0447 \\u043f\\u0440\\u0438\\u0445\\u043e\\u0434\\u043e\\u0432 \\u0438 76 \\u0435\\u043f\\u0430\\u0440\\u0445\\u0438\\u0439 \\u043d\\u0430 \\u0442\\u0435\\u0440\\u0440\\u0438\\u0442\\u043e\\u0440\\u0438\\u0438 \\u0421\\u0421\\u0421\\u0420, \\u0430 \\u0442\\u0430\\u043a\\u0436\\u0435 120 \\u0437\\u0430\\u0440\\u0443\\u0431\\u0435\\u0436\\u043d\\u044b\\u0445 \\u043f\\u0440\\u0438\\u0445\\u043e\\u0434\\u043e\\u0432, \\u043e\\u0431\\u044a\\u0435\\u0434\\u0438\\u043d\\u0451\\u043d\\u043d\\u044b\\u0445 \\u0432 3 \\u0431\\u043b\\u0430\\u0433\\u043e\\u0447\\u0438\\u043d\\u0438\\u044f (\\u0424\\u0438\\u043d\\u043b\\u044f\\u043d\\u0434\\u0441\\u043a\\u043e\\u0435, \\u0412\\u0435\\u043d\\u0433\\u0435\\u0440\\u0441\\u043a\\u043e\\u0435, \\u041c\\u0435\\u043a\\u0441\\u0438\\u043a\\u0430\\u043d\\u0441\\u043a\\u043e\\u0435) \\u0438 3 \\u044d\\u043a\\u0437\\u0430\\u0440\\u0445\\u0430\\u0442\\u0430 (\\u0417\\u0430\\u043f\\u0430\\u0434\\u043d\\u043e\\u0435\\u0432\\u0440\\u043e\\u043f\\u0435\\u0439\\u0441\\u043a\\u0438\\u0439, \\u0421\\u0440\\u0435\\u0434\\u043d\\u0435\\u0435\\u0432\\u0440\\u043e\\u043f\\u0435\\u0439\\u0441\\u043a\\u0438\\u0439, \\u0426\\u0435\\u043d\\u0442\\u0440\\u0430\\u043b\\u044c\\u043d\\u043e- \\u0438 \\u042e\\u0436\\u043d\\u043e-\\u0410\\u043c\\u0435\\u0440\\u0438\\u043a\\u0430\\u043d\\u0441\\u043a\\u0438\\u0439), 20 \\u043c\\u043e\\u043d\\u0430\\u0441\\u0442\\u044b\\u0440\\u0435\\u0439, \\u0438\\u0437 \\u043a\\u043e\\u0442\\u043e\\u0440\\u044b\\u0445 \\u0434\\u0432\\u0430 \\u0437\\u0430\\u0440\\u0443\\u0431\\u0435\\u0436\\u043d\\u044b\\u0435: \\u043c\\u0443\\u0436\\u0441\\u043a\\u043e\\u0439 \\u041f\\u0430\\u043d\\u0442\\u0435\\u043b\\u0435\\u0438\\u043c\\u043e\\u043d\\u043e\\u0432 \\u043d\\u0430 \\u0410\\u0444\\u043e\\u043d\\u0435 (\\u044e\\u0440\\u0438\\u0441\\u0434\\u0438\\u043a\\u0446\\u0438\\u043e\\u043d\\u043d\\u043e \\u043d\\u0430\\u0445\\u043e\\u0434\\u044f\\u0449\\u0438\\u0439\\u0441\\u044f \\u0432 \\u0432\\u0435\\u0434\\u0435\\u043d\\u0438\\u0438 \\u0412\\u0441\\u0435\\u043b\\u0435\\u043d\\u0441\\u043a\\u043e\\u0433\\u043e \\u043f\\u0430\\u0442\\u0440\\u0438\\u0430\\u0440\\u0445\\u0430) \\u0438 \\u0436\\u0435\\u043d\\u0441\\u043a\\u0438\\u0439 \\u0413\\u043e\\u0440\\u043d\\u0435\\u043d\\u0441\\u043a\\u0438\\u0439 \\u0432\\u0431\\u043b\\u0438\\u0437\\u0438 \\u0418\\u0435\\u0440\\u0443\\u0441\\u0430\\u043b\\u0438\\u043c\\u0430.\",\n          \"At the same time, pupil behavior was becoming less inhibited, much to the distress of the adult population. Henry W. Foster, Superintendent of the District from 1900\\u20131927, described the conditions in 1913: \\\"Long before prohibition was adopted, venturesome boys were surreptitiously now and then bringing liquor to dances to add to the excitement. There was a decided reversion to animalistic excitement. Musical rhythm from the wilds of barbarism stirred the pulse. The dance abandoned the restraint and refinement of waltz and polka; Bunny Hug, Turkey Trot, Fox Trot, and Shimmey began to reign.\\\"\",\n          \"\\u041d\\u0430\\u0447\\u0438\\u043d\\u0430\\u044f \\u0441 1987 \\u0433\\u043e\\u0434\\u0430, \\u0432 \\u0440\\u0430\\u043c\\u043a\\u0430\\u0445 \\u043f\\u0440\\u043e\\u0432\\u043e\\u0434\\u0438\\u0432\\u0448\\u0435\\u0439\\u0441\\u044f \\u043f\\u0440\\u0438 \\u041c\\u0438\\u0445\\u0430\\u0438\\u043b\\u0435 \\u0413\\u043e\\u0440\\u0431\\u0430\\u0447\\u0451\\u0432\\u0435 \\u043f\\u043e\\u043b\\u0438\\u0442\\u0438\\u043a\\u0438 \\u0433\\u043b\\u0430\\u0441\\u043d\\u043e\\u0441\\u0442\\u0438 \\u0438 \\u043f\\u0435\\u0440\\u0435\\u0441\\u0442\\u0440\\u043e\\u0439\\u043a\\u0438, \\u043d\\u0430\\u0447\\u0430\\u043b\\u0441\\u044f \\u043f\\u043e\\u0441\\u0442\\u0435\\u043f\\u0435\\u043d\\u043d\\u044b\\u0439 \\u043f\\u0440\\u043e\\u0446\\u0435\\u0441\\u0441 \\u043f\\u0435\\u0440\\u0435\\u0434\\u0430\\u0447\\u0438 \\u0432 \\u043f\\u043e\\u043b\\u044c\\u0437\\u043e\\u0432\\u0430\\u043d\\u0438\\u0435 \\u041f\\u0430\\u0442\\u0440\\u0438\\u0430\\u0440\\u0445\\u0438\\u0438, \\u0435\\u043f\\u0430\\u0440\\u0445\\u0438\\u0439 \\u0438 \\u043e\\u0431\\u0449\\u0438\\u043d \\u0432\\u0435\\u0440\\u0443\\u044e\\u0449\\u0438\\u0445 \\u0437\\u0434\\u0430\\u043d\\u0438\\u0439 \\u0438 \\u0438\\u043c\\u0443\\u0449\\u0435\\u0441\\u0442\\u0432\\u0430, \\u0440\\u0430\\u043d\\u0435\\u0435 \\u043d\\u0430\\u0445\\u043e\\u0434\\u0438\\u0432\\u0448\\u0438\\u0445\\u0441\\u044f \\u0432 \\u0446\\u0435\\u0440\\u043a\\u043e\\u0432\\u043d\\u043e\\u043c \\u0432\\u0435\\u0434\\u0435\\u043d\\u0438\\u0438, \\u043f\\u0440\\u043e\\u0438\\u0441\\u0445\\u043e\\u0434\\u0438\\u043b\\u0430 \\u043b\\u0438\\u0431\\u0435\\u0440\\u0430\\u043b\\u0438\\u0437\\u0430\\u0446\\u0438\\u044f \\u0440\\u0435\\u0436\\u0438\\u043c\\u0430 \\u043a\\u043e\\u043d\\u0442\\u0440\\u043e\\u043b\\u044f \\u043d\\u0430\\u0434 \\u0440\\u0435\\u043b\\u0438\\u0433\\u0438\\u043e\\u0437\\u043d\\u043e\\u0439 \\u0436\\u0438\\u0437\\u043d\\u044c\\u044e \\u0438 \\u043e\\u0442\\u043c\\u0435\\u043d\\u0430 \\u043e\\u0433\\u0440\\u0430\\u043d\\u0438\\u0447\\u0435\\u043d\\u0438\\u0439 \\u0434\\u0435\\u044f\\u0442\\u0435\\u043b\\u044c\\u043d\\u043e\\u0441\\u0442\\u0438 \\u0440\\u0435\\u043b\\u0438\\u0433\\u0438\\u043e\\u0437\\u043d\\u044b\\u0445 \\u043e\\u0431\\u044a\\u0435\\u0434\\u0438\\u043d\\u0435\\u043d\\u0438\\u0439. \\u0412\\u0430\\u0436\\u043d\\u043e\\u0439 \\u0432\\u0435\\u0445\\u043e\\u0439 \\u044f\\u0432\\u0438\\u043b\\u0441\\u044f 1988 \\u0433\\u043e\\u0434 \\u2014 \\u0433\\u043e\\u0434 \\u043f\\u0440\\u0430\\u0437\\u0434\\u043d\\u043e\\u0432\\u0430\\u043d\\u0438\\u044f \\u0442\\u044b\\u0441\\u044f\\u0447\\u0435\\u043b\\u0435\\u0442\\u0438\\u044f \\u041a\\u0440\\u0435\\u0449\\u0435\\u043d\\u0438\\u044f \\u0420\\u0443\\u0441\\u0438 \\u0438 \\u043f\\u0440\\u043e\\u0432\\u0435\\u0434\\u0435\\u043d\\u0438\\u044f \\u044e\\u0431\\u0438\\u043b\\u0435\\u0439\\u043d\\u043e\\u0433\\u043e \\u043f\\u043e\\u043c\\u0435\\u0441\\u0442\\u043d\\u043e\\u0433\\u043e \\u0441\\u043e\\u0431\\u043e\\u0440\\u0430 \\u0420\\u041f\\u0426. \\u0411\\u044b\\u043b \\u0441\\u043d\\u044f\\u0442 \\u0437\\u0430\\u043f\\u0440\\u0435\\u0442 \\u043d\\u0430 \\u043e\\u0441\\u0432\\u0435\\u0449\\u0435\\u043d\\u0438\\u0435 \\u0440\\u0435\\u043b\\u0438\\u0433\\u0438\\u043e\\u0437\\u043d\\u043e\\u0439 \\u0436\\u0438\\u0437\\u043d\\u0438 \\u0432 \\u0421\\u0421\\u0421\\u0420 \\u043f\\u043e \\u0442\\u0435\\u043b\\u0435\\u0432\\u0438\\u0434\\u0435\\u043d\\u0438\\u044e \\u2014 \\u0432\\u043f\\u0435\\u0440\\u0432\\u044b\\u0435 \\u0432 \\u0438\\u0441\\u0442\\u043e\\u0440\\u0438\\u0438 \\u0421\\u043e\\u0432\\u0435\\u0442\\u0441\\u043a\\u043e\\u0433\\u043e \\u0421\\u043e\\u044e\\u0437\\u0430 \\u043b\\u044e\\u0434\\u0438 \\u0441\\u043c\\u043e\\u0433\\u043b\\u0438 \\u0432\\u0438\\u0434\\u0435\\u0442\\u044c \\u043f\\u0440\\u044f\\u043c\\u044b\\u0435 \\u0442\\u0440\\u0430\\u043d\\u0441\\u043b\\u044f\\u0446\\u0438\\u0438 \\u0431\\u043e\\u0433\\u043e\\u0441\\u043b\\u0443\\u0436\\u0435\\u043d\\u0438\\u0439 \\u043f\\u043e \\u0442\\u0435\\u043b\\u0435\\u0432\\u0438\\u0437\\u043e\\u0440\\u0443.\"\n        ],\n        \"semantic_type\": \"\",\n        \"description\": \"\"\n      }\n    }\n  ]\n}"
            }
          },
          "metadata": {},
          "execution_count": 75
        }
      ]
    },
    {
      "cell_type": "code",
      "metadata": {
        "colab": {
          "base_uri": "https://localhost:8080/"
        },
        "id": "qu0hSDfD-1K-",
        "outputId": "62985fb7-f611-42b0-acd8-7029a25c64a3"
      },
      "source": [
        "lang = np.unique(y_text)\n",
        "print(lang)"
      ],
      "execution_count": 76,
      "outputs": [
        {
          "output_type": "stream",
          "name": "stdout",
          "text": [
            "['english' 'french' 'italian' 'russian' 'spanish']\n"
          ]
        }
      ]
    }
  ]
}