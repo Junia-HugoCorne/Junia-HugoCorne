{
  "nbformat": 4,
  "nbformat_minor": 0,
  "metadata": {
    "colab": {
      "provenance": []
    },
    "kernelspec": {
      "name": "python3",
      "display_name": "Python 3"
    }
  },
  "cells": [
    {
      "cell_type": "markdown",
      "metadata": {
        "id": "HwrqC1Fk5-WZ"
      },
      "source": [
        "# Analyse de texte utilisant NLTK"
      ]
    },
    {
      "cell_type": "code",
      "metadata": {
        "id": "wfBlnB6S5l2V"
      },
      "source": [
        "from nltk.tokenize import word_tokenize\n",
        "from nltk.text import Text\n",
        "import nltk"
      ],
      "execution_count": 46,
      "outputs": []
    },
    {
      "cell_type": "code",
      "metadata": {
        "id": "_lyPdA7sDm0U",
        "colab": {
          "base_uri": "https://localhost:8080/"
        },
        "outputId": "4f75c214-1f69-4322-d991-09d969847d9d"
      },
      "source": [
        "nltk.download('punkt')\n",
        "nltk.download('stopwords')\n",
        "nltk.download('wordnet')\n",
        "nltk.download('averaged_perceptron_tagger')\n",
        "nltk.download('averaged_perceptron_tagger_eng')\n",
        "nltk.download('omw-1.4')\n",
        "nltk.download('punkt_tab')"
      ],
      "execution_count": 47,
      "outputs": [
        {
          "output_type": "stream",
          "name": "stderr",
          "text": [
            "[nltk_data] Downloading package punkt to /root/nltk_data...\n",
            "[nltk_data]   Package punkt is already up-to-date!\n",
            "[nltk_data] Downloading package stopwords to /root/nltk_data...\n",
            "[nltk_data]   Package stopwords is already up-to-date!\n",
            "[nltk_data] Downloading package wordnet to /root/nltk_data...\n",
            "[nltk_data]   Package wordnet is already up-to-date!\n",
            "[nltk_data] Downloading package averaged_perceptron_tagger to\n",
            "[nltk_data]     /root/nltk_data...\n",
            "[nltk_data]   Package averaged_perceptron_tagger is already up-to-\n",
            "[nltk_data]       date!\n",
            "[nltk_data] Downloading package averaged_perceptron_tagger_eng to\n",
            "[nltk_data]     /root/nltk_data...\n",
            "[nltk_data]   Package averaged_perceptron_tagger_eng is already up-to-\n",
            "[nltk_data]       date!\n",
            "[nltk_data] Downloading package omw-1.4 to /root/nltk_data...\n",
            "[nltk_data]   Package omw-1.4 is already up-to-date!\n",
            "[nltk_data] Downloading package punkt_tab to /root/nltk_data...\n",
            "[nltk_data]   Package punkt_tab is already up-to-date!\n"
          ]
        },
        {
          "output_type": "execute_result",
          "data": {
            "text/plain": [
              "True"
            ]
          },
          "metadata": {},
          "execution_count": 47
        }
      ]
    },
    {
      "cell_type": "markdown",
      "metadata": {
        "id": "0pbLZHOK6sH-"
      },
      "source": [
        "# La tokenization"
      ]
    },
    {
      "cell_type": "markdown",
      "metadata": {
        "id": "GCg-nz4m637N"
      },
      "source": [
        "Le but est de transformer une phrase en vecteur de mots."
      ]
    },
    {
      "cell_type": "code",
      "metadata": {
        "id": "owA-myd_5o30",
        "colab": {
          "base_uri": "https://localhost:8080/"
        },
        "outputId": "780c0c07-5630-47c7-b1fe-87e9d3ef5466"
      },
      "source": [
        "my_string = \"Je suis ici pour étudier le Natural Language Processing, j'adore ça\"\n",
        "tokens = word_tokenize(my_string)\n",
        "tokens"
      ],
      "execution_count": 48,
      "outputs": [
        {
          "output_type": "execute_result",
          "data": {
            "text/plain": [
              "['Je',\n",
              " 'suis',\n",
              " 'ici',\n",
              " 'pour',\n",
              " 'étudier',\n",
              " 'le',\n",
              " 'Natural',\n",
              " 'Language',\n",
              " 'Processing',\n",
              " ',',\n",
              " \"j'adore\",\n",
              " 'ça']"
            ]
          },
          "metadata": {},
          "execution_count": 48
        }
      ]
    },
    {
      "cell_type": "markdown",
      "metadata": {
        "id": "KF1k_V3tBa5_"
      },
      "source": [
        "On peut voir que la tokenization n'est pas parfaite \"j'adore\" est considéré comme une seul mot.\n",
        "on va utiliser les expressions régulières pour ne récupérer que les caractères alphanumériques de chaque phrase."
      ]
    },
    {
      "cell_type": "code",
      "metadata": {
        "id": "51bj2aWe62Nd",
        "colab": {
          "base_uri": "https://localhost:8080/"
        },
        "outputId": "e8b021fd-e105-4019-aef4-6420bdf6e6b4"
      },
      "source": [
        "tokenizer = nltk.RegexpTokenizer(r'\\w+')\n",
        "tokens = tokenizer.tokenize(my_string)\n",
        "tokens"
      ],
      "execution_count": 49,
      "outputs": [
        {
          "output_type": "execute_result",
          "data": {
            "text/plain": [
              "['Je',\n",
              " 'suis',\n",
              " 'ici',\n",
              " 'pour',\n",
              " 'étudier',\n",
              " 'le',\n",
              " 'Natural',\n",
              " 'Language',\n",
              " 'Processing',\n",
              " 'j',\n",
              " 'adore',\n",
              " 'ça']"
            ]
          },
          "metadata": {},
          "execution_count": 49
        }
      ]
    },
    {
      "cell_type": "markdown",
      "metadata": {
        "id": "91B9paOwBwG0"
      },
      "source": [
        "On peut voir que l'on a toujours des majuscules ce qui peut être un problème lors d'un comptage de notre vocabulaire.\n",
        "\n",
        "N'oubliez pas de mettre votre phrase en minuscule avant de travailler desssus."
      ]
    },
    {
      "cell_type": "code",
      "metadata": {
        "id": "5bcv0-88BGz8",
        "colab": {
          "base_uri": "https://localhost:8080/"
        },
        "outputId": "4e3b8f51-02fc-413a-9cda-137c75ed9bf3"
      },
      "source": [
        "tokens = tokenizer.tokenize(my_string.lower())\n",
        "tokens"
      ],
      "execution_count": 50,
      "outputs": [
        {
          "output_type": "execute_result",
          "data": {
            "text/plain": [
              "['je',\n",
              " 'suis',\n",
              " 'ici',\n",
              " 'pour',\n",
              " 'étudier',\n",
              " 'le',\n",
              " 'natural',\n",
              " 'language',\n",
              " 'processing',\n",
              " 'j',\n",
              " 'adore',\n",
              " 'ça']"
            ]
          },
          "metadata": {},
          "execution_count": 50
        }
      ]
    },
    {
      "cell_type": "markdown",
      "metadata": {
        "id": "I4FJi0hUCdc3"
      },
      "source": [
        "# Les stopwords"
      ]
    },
    {
      "cell_type": "markdown",
      "metadata": {
        "id": "3dg7lrl4EJ1f"
      },
      "source": [
        "On va supprimer ici les mots les plus fréquents et qui n'apporte pas beaucoup d'informations. Si on voit la phrase comme un signal transportant de l'information, les stopwords peuvent être vue comme du bruit.\n",
        "\n",
        "Combien de stopwords sont présent dans la langue française ?"
      ]
    },
    {
      "cell_type": "code",
      "metadata": {
        "id": "WxMD8nC8B0Ug",
        "colab": {
          "base_uri": "https://localhost:8080/"
        },
        "outputId": "8194605a-3d0a-49f0-89c3-9d4f6ecafd9d"
      },
      "source": [
        "len(nltk.corpus.stopwords.words('french'))"
      ],
      "execution_count": 51,
      "outputs": [
        {
          "output_type": "execute_result",
          "data": {
            "text/plain": [
              "157"
            ]
          },
          "metadata": {},
          "execution_count": 51
        }
      ]
    },
    {
      "cell_type": "markdown",
      "metadata": {
        "id": "UTV4QvxrEhxQ"
      },
      "source": [
        "La librairie *nltk* répertorie 157 stopwords pour la langue française !\n",
        "\n",
        "Vous pouvez voir les dix premiers mots ci-dessous."
      ]
    },
    {
      "cell_type": "code",
      "metadata": {
        "id": "_PeMDDVcEiO3",
        "colab": {
          "base_uri": "https://localhost:8080/"
        },
        "outputId": "33f8321e-4baa-42e0-ed31-f46c8d53b05f"
      },
      "source": [
        "nltk.corpus.stopwords.words('french')[:10]"
      ],
      "execution_count": 52,
      "outputs": [
        {
          "output_type": "execute_result",
          "data": {
            "text/plain": [
              "['au', 'aux', 'avec', 'ce', 'ces', 'dans', 'de', 'des', 'du', 'elle']"
            ]
          },
          "metadata": {},
          "execution_count": 52
        }
      ]
    },
    {
      "cell_type": "markdown",
      "metadata": {
        "id": "9xhqlJ5LEydQ"
      },
      "source": [
        "On peut donc retirer les stopwords de notre phrase de base."
      ]
    },
    {
      "cell_type": "code",
      "metadata": {
        "id": "Lo5nY9WBDko4",
        "colab": {
          "base_uri": "https://localhost:8080/"
        },
        "outputId": "e30b7a25-e82a-498d-e65c-9a52fc1b01f7"
      },
      "source": [
        "[w for w in tokens if not w in list(nltk.corpus.stopwords.words('french'))]"
      ],
      "execution_count": 53,
      "outputs": [
        {
          "output_type": "execute_result",
          "data": {
            "text/plain": [
              "['ici', 'étudier', 'natural', 'language', 'processing', 'adore', 'ça']"
            ]
          },
          "metadata": {},
          "execution_count": 53
        }
      ]
    },
    {
      "cell_type": "markdown",
      "metadata": {
        "id": "YsqSiU2RFfzf"
      },
      "source": [
        "Notre phrase contient seulement les mots qui ont de la valeur, il est maintenant possible de l'étudier."
      ]
    },
    {
      "cell_type": "markdown",
      "metadata": {
        "id": "Y7eWa8hyFt2r"
      },
      "source": [
        "# Un problème de doublon"
      ]
    },
    {
      "cell_type": "code",
      "metadata": {
        "id": "nv18_uP1F9gG",
        "colab": {
          "base_uri": "https://localhost:8080/"
        },
        "outputId": "0c62445e-9e83-42e9-d36d-f97237617152"
      },
      "source": [
        "my_string = \"Julien est plus grand que toi, mais tu es plus grande que Sophie. \\\n",
        "            Julien et Sophie sont plus grands que Marie\"\n",
        "tokenizer = nltk.RegexpTokenizer(r'\\w+')\n",
        "tokens = tokenizer.tokenize(my_string.lower())\n",
        "tokens = [w for w in tokens if not w in list(nltk.corpus.stopwords.words('french'))]\n",
        "\n",
        "tokens"
      ],
      "execution_count": 54,
      "outputs": [
        {
          "output_type": "execute_result",
          "data": {
            "text/plain": [
              "['julien',\n",
              " 'plus',\n",
              " 'grand',\n",
              " 'plus',\n",
              " 'grande',\n",
              " 'sophie',\n",
              " 'julien',\n",
              " 'sophie',\n",
              " 'plus',\n",
              " 'grands',\n",
              " 'marie']"
            ]
          },
          "metadata": {},
          "execution_count": 54
        }
      ]
    },
    {
      "cell_type": "markdown",
      "metadata": {
        "id": "bL0oHk82HWIv"
      },
      "source": [
        "On peut voir que dans la phrase il y a plusieurs le même mot \"grand\" mais accordé de différentes façon."
      ]
    },
    {
      "cell_type": "code",
      "metadata": {
        "id": "92UryKQOHQCZ",
        "colab": {
          "base_uri": "https://localhost:8080/"
        },
        "outputId": "7c1a1dee-4c57-44c5-b694-09ed0dee3da1"
      },
      "source": [
        "nltk.FreqDist(tokens)"
      ],
      "execution_count": 55,
      "outputs": [
        {
          "output_type": "execute_result",
          "data": {
            "text/plain": [
              "FreqDist({'plus': 3, 'julien': 2, 'sophie': 2, 'grand': 1, 'grande': 1, 'grands': 1, 'marie': 1})"
            ]
          },
          "metadata": {},
          "execution_count": 55
        }
      ]
    },
    {
      "cell_type": "markdown",
      "metadata": {
        "id": "eaXrymlMHmC2"
      },
      "source": [
        "Si l'on travail le texte, on va donc considérer que \"grand\", \"grande\" et \"grands\" sont trois mots différents."
      ]
    },
    {
      "cell_type": "markdown",
      "metadata": {
        "id": "0htJPcieIDhv"
      },
      "source": [
        "# Le stemming"
      ]
    },
    {
      "cell_type": "markdown",
      "metadata": {
        "id": "yA7RZ43-JxDf"
      },
      "source": [
        "Le stemming garde une racinisation des mots. Cette technique permet de regrouper des verbes conjugués et des adjectifs accordés sous la même orthographe."
      ]
    },
    {
      "cell_type": "code",
      "metadata": {
        "id": "2Voph9oTHctB"
      },
      "source": [
        "from nltk.stem.snowball import FrenchStemmer\n",
        "\n",
        "stemmer = FrenchStemmer()"
      ],
      "execution_count": 56,
      "outputs": []
    },
    {
      "cell_type": "markdown",
      "metadata": {
        "id": "M12BE934KXoQ"
      },
      "source": [
        "N'oubliez pas d'utiliser une stemming adéquat au language utilisé."
      ]
    },
    {
      "cell_type": "code",
      "metadata": {
        "id": "Njy0fNx7IFpF",
        "colab": {
          "base_uri": "https://localhost:8080/"
        },
        "outputId": "74ddd8f6-ee3f-4a0d-c0a3-7e472065c1de"
      },
      "source": [
        "tokens_stem = [stemmer.stem(w) for w in tokens]\n",
        "tokens_stem"
      ],
      "execution_count": 57,
      "outputs": [
        {
          "output_type": "execute_result",
          "data": {
            "text/plain": [
              "['julien',\n",
              " 'plus',\n",
              " 'grand',\n",
              " 'plus',\n",
              " 'grand',\n",
              " 'soph',\n",
              " 'julien',\n",
              " 'soph',\n",
              " 'plus',\n",
              " 'grand',\n",
              " 'mar']"
            ]
          },
          "metadata": {},
          "execution_count": 57
        }
      ]
    },
    {
      "cell_type": "code",
      "metadata": {
        "id": "_3mwgHwcIZFV",
        "colab": {
          "base_uri": "https://localhost:8080/"
        },
        "outputId": "805dd427-cf4c-433e-ba44-989b41b2f9b9"
      },
      "source": [
        "nltk.FreqDist(tokens_stem)"
      ],
      "execution_count": 58,
      "outputs": [
        {
          "output_type": "execute_result",
          "data": {
            "text/plain": [
              "FreqDist({'plus': 3, 'grand': 3, 'julien': 2, 'soph': 2, 'mar': 1})"
            ]
          },
          "metadata": {},
          "execution_count": 58
        }
      ]
    },
    {
      "cell_type": "markdown",
      "metadata": {
        "id": "esxD53DfKcvo"
      },
      "source": [
        "On peut voir que cette fois, \"grand\", \"grande\" et \"grands\" se retrouve sous la même forme \"grand\"."
      ]
    },
    {
      "cell_type": "markdown",
      "metadata": {
        "id": "E7ayq_ZUKkWt"
      },
      "source": [
        "# Lemmatization"
      ]
    },
    {
      "cell_type": "markdown",
      "metadata": {
        "id": "e-Jv_f18KrKP"
      },
      "source": [
        "Le processus de lemmatisation consiste à représenter les mots sous leur forme canonique. Par exemple pour un verbe, ce sera son infinitif. Pour un nom, son masculin singulier.\n",
        "\n",
        "La fonction de lemmatization n'existe pas dans *nltk* pour le français l'exemple qui suit sera donc en anglais."
      ]
    },
    {
      "cell_type": "code",
      "metadata": {
        "id": "Q28YNvUpLZUq"
      },
      "source": [
        "from nltk.stem import WordNetLemmatizer\n",
        "Word_Lemmatizer = WordNetLemmatizer()"
      ],
      "execution_count": 59,
      "outputs": []
    },
    {
      "cell_type": "code",
      "metadata": {
        "id": "eol6SD1kLAND",
        "colab": {
          "base_uri": "https://localhost:8080/"
        },
        "outputId": "eb48d9a0-e965-4b4f-d4a1-f975aeb20cb2"
      },
      "source": [
        "my_string = \"Who let's the dogs out.\"\n",
        "tokenizer = nltk.RegexpTokenizer(r'\\w+')\n",
        "tokens = tokenizer.tokenize(my_string.lower())\n",
        "tokens = [w for w in tokens if not w in list(nltk.corpus.stopwords.words())]\n",
        "print(tokens)\n",
        "tokens_lema = [Word_Lemmatizer.lemmatize(w) for w in tokens]\n",
        "print(tokens_lema)"
      ],
      "execution_count": 60,
      "outputs": [
        {
          "output_type": "stream",
          "name": "stdout",
          "text": [
            "['dogs']\n",
            "['dog']\n"
          ]
        }
      ]
    },
    {
      "cell_type": "markdown",
      "metadata": {
        "id": "XwUC2I0HNHbd"
      },
      "source": [
        "# Part of speach tagging"
      ]
    },
    {
      "cell_type": "markdown",
      "metadata": {
        "id": "4wQxCf_wN3TL"
      },
      "source": [
        "On peut avoir des précisions sur l'usage du mot dans la phrase."
      ]
    },
    {
      "cell_type": "code",
      "metadata": {
        "id": "9HD0ygijL-u0",
        "colab": {
          "base_uri": "https://localhost:8080/"
        },
        "outputId": "321ec8dc-95ab-4431-e5af-d72726c5b003"
      },
      "source": [
        "my_string = \"I like hot tea\"\n",
        "tokenizer = nltk.RegexpTokenizer(r'\\w+')\n",
        "tokens = tokenizer.tokenize(my_string.lower())\n",
        "nltk.pos_tag(tokens)"
      ],
      "execution_count": 61,
      "outputs": [
        {
          "output_type": "execute_result",
          "data": {
            "text/plain": [
              "[('i', 'NNS'), ('like', 'VBP'), ('hot', 'JJ'), ('tea', 'NN')]"
            ]
          },
          "metadata": {},
          "execution_count": 61
        }
      ]
    }
  ]
}